{
  "nbformat": 4,
  "nbformat_minor": 0,
  "metadata": {
    "colab": {
      "name": "백준_0723_1015번.ipynb",
      "provenance": [],
      "collapsed_sections": [],
      "include_colab_link": true
    },
    "kernelspec": {
      "name": "python3",
      "display_name": "Python 3"
    }
  },
  "cells": [
    {
      "cell_type": "markdown",
      "metadata": {
        "id": "view-in-github",
        "colab_type": "text"
      },
      "source": [
        "<a href=\"https://colab.research.google.com/github/kwagdm/TIL/blob/master/%EB%B0%B1%EC%A4%80_0723_1015%EB%B2%88.ipynb\" target=\"_parent\"><img src=\"https://colab.research.google.com/assets/colab-badge.svg\" alt=\"Open In Colab\"/></a>"
      ]
    },
    {
      "cell_type": "markdown",
      "metadata": {
        "id": "XBlgAxauC-SB",
        "colab_type": "text"
      },
      "source": [
        "# 07/22_1067번\n",
        "# 이동\n",
        "## 문제\n",
        "N개의 수가 있는 X와 Y가 있다. 이때 X나 Y를 순환 이동시킬 수 있다. 순환 이동이란 마지막 원소를 제거하고 그 수를 맨 앞으로 다시 삽입하는 것을 말한다. 예를 들어, {1, 2, 3}을 순환 이동시키면 {3, 1, 2}가 될 것이고, {3, 1, 2}는 {2, 3, 1}이 된다. 순환 이동은 0번 또는 그 이상 할 수 있다. 이 모든 순환 이동을 한 후에 점수를 구하면 된다. 점수 S는 다음과 같이 구한다.\n",
        "\n",
        "S = X[0]*Y[0] + X[1]*Y[1] + ... + X[N-1]*Y[N-1]\n",
        "\n",
        "이때 S를 최대로 하면 된다. \n",
        "## 입력\n",
        "첫째 줄에 N이 주어진다. 둘째 줄에는 X에 들어있는 N개의 수가 주어진다. 셋째 줄에는 Y에 있는 수가 모두 주어진다. N은 60,000보다 작거나 같은 자연수이고, X와 Y에 들어있는 모든 수는 100보다 작은 자연수 또는 0이다.\n",
        "## 출력\n",
        "첫째 줄에 S의 최댓값을 출력한다.\n",
        "## 사이트\n",
        "https://www.acmicpc.net/problem/1067\n"
      ]
    },
    {
      "cell_type": "code",
      "metadata": {
        "id": "A7lPPlfdDyNa",
        "colab_type": "code",
        "colab": {}
      },
      "source": [
        ""
      ],
      "execution_count": null,
      "outputs": []
    },
    {
      "cell_type": "markdown",
      "metadata": {
        "id": "kVjTd66fD0Mk",
        "colab_type": "text"
      },
      "source": [
        "# 07/23_1015번\n",
        "# 수열 정렬\n",
        "## 문제\n",
        "P[0], P[1], ...., P[N-1]은 0부터 N-1까지(포함)의 수를 한 번씩 포함하고 있는 수열이다. 수열 P를 길이가 N인 배열 A에 적용하면 길이가 N인 배열 B가 된다. 적용하는 방법은 B[P[i]] = A[i]이다.\n",
        "\n",
        "배열 A가 주어졌을 때, 수열 P를 적용한 결과가 비내림차순이 되는 수열을 찾는 프로그램을 작성하시오. 비내림차순이란, 각각의 원소가 바로 앞에 있는 원소보다 크거나 같을 경우를 말한다. 만약 그러한 수열이 여러개라면 사전순으로 앞서는 것을 출력한다.\n",
        "## 입력\n",
        "첫째 줄에 배열 A의 크기 N이 주어진다. 둘째 줄에는 배열 A의 원소가 0번부터 차례대로 주어진다. N은 50보다 작거나 같은 자연수이고, 배열의 원소는 1,000보다 작거나 같은 자연수이다.\n",
        "\n",
        "\n",
        "## 출력\n",
        "첫째 줄에 비내림차순으로 만드는 수열 P를 출력한다.\n",
        "## 사이트\n",
        "https://www.acmicpc.net/problem/1015\n"
      ]
    },
    {
      "cell_type": "code",
      "metadata": {
        "id": "JKIuIFNxD-8C",
        "colab_type": "code",
        "colab": {
          "base_uri": "https://localhost:8080/",
          "height": 108
        },
        "outputId": "72e97058-e25d-4f3d-e52d-c1246ced9a4d"
      },
      "source": [
        "N = int(input(\"put down any natural number below 50\"))\n",
        "A = []\n",
        "for i in range(N):\n",
        "  A.append(int(input(\"put down any natural number below 1000\")))\n",
        "\n",
        "def sort(X):\n",
        "  B = sorted(A)\n",
        "  C = []\n",
        "  for i in B:\n",
        "    C.append(B.index(i))\n",
        "\n",
        "  D = []\n",
        "  for i in A:\n",
        "    D.append(C[B.index(i)])\n",
        "  \n",
        "  return D\n",
        "\n",
        "sort(A)"
      ],
      "execution_count": 16,
      "outputs": [
        {
          "output_type": "stream",
          "text": [
            "put down any natural number below 503\n",
            "put down any natural number below 10002\n",
            "put down any natural number below 10003\n",
            "put down any natural number below 10001\n"
          ],
          "name": "stdout"
        },
        {
          "output_type": "execute_result",
          "data": {
            "text/plain": [
              "[1, 2, 0]"
            ]
          },
          "metadata": {
            "tags": []
          },
          "execution_count": 16
        }
      ]
    },
    {
      "cell_type": "code",
      "metadata": {
        "id": "1vVRYHN6FxAS",
        "colab_type": "code",
        "colab": {}
      },
      "source": [
        ""
      ],
      "execution_count": null,
      "outputs": []
    }
  ]
}