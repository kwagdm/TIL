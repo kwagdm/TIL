{
  "nbformat": 4,
  "nbformat_minor": 0,
  "metadata": {
    "colab": {
      "name": "0728_1035번_조각움직이기.ipynb",
      "provenance": [],
      "collapsed_sections": [],
      "authorship_tag": "ABX9TyMbnYknQvH11FE46YyAVEwK",
      "include_colab_link": true
    },
    "kernelspec": {
      "name": "python3",
      "display_name": "Python 3"
    }
  },
  "cells": [
    {
      "cell_type": "markdown",
      "metadata": {
        "id": "view-in-github",
        "colab_type": "text"
      },
      "source": [
        "<a href=\"https://colab.research.google.com/github/kwagdm/TIL/blob/master/0728_1035%EB%B2%88_%EC%A1%B0%EA%B0%81%EC%9B%80%EC%A7%81%EC%9D%B4%EA%B8%B0.ipynb\" target=\"_parent\"><img src=\"https://colab.research.google.com/assets/colab-badge.svg\" alt=\"Open In Colab\"/></a>"
      ]
    },
    {
      "cell_type": "code",
      "metadata": {
        "id": "1kU1R6C_nzFN",
        "colab_type": "code",
        "colab": {
          "base_uri": "https://localhost:8080/",
          "height": 36
        },
        "outputId": "26c1760c-aba2-4027-cd43-61fb8446b832"
      },
      "source": [
        "rest"
      ],
      "execution_count": null,
      "outputs": [
        {
          "output_type": "execute_result",
          "data": {
            "text/plain": [
              "[[5, 1]]"
            ]
          },
          "metadata": {
            "tags": []
          },
          "execution_count": 70
        }
      ]
    },
    {
      "cell_type": "markdown",
      "metadata": {
        "id": "Qz3uZAWihNbg",
        "colab_type": "text"
      },
      "source": [
        "조각 움직이기 분류"
      ]
    },
    {
      "cell_type": "markdown",
      "metadata": {
        "id": "2kjXgjpRhOvo",
        "colab_type": "text"
      },
      "source": [
        "문제  \n",
        "최대 5개의 조각이 있는 5*5 크기의 보드가 있다. 김지민은 조각을 적절히 움직여서 모든 조각이 연결 요소를 이루게 하려고 한다. 즉 상하좌우로 인접한 조각을 모두 연결했을 때, 모든 쌍의 조각이 적어도 하나의 경로로 연결되어 있어야 한다.  \n",
        "  \n",
        "한 번의 이동으로 하나의 조각을 상하좌우로 인접한 칸으로 옮길 수 있다. 보드의 상태가 주어질 때, 최소 몇 번 이동해야 모든 조각이 연결 요소를 이루게 되는지 구하는 프로그램을 작성하시오."
      ]
    },
    {
      "cell_type": "markdown",
      "metadata": {
        "id": "aIgYimomhQe2",
        "colab_type": "text"
      },
      "source": [
        "입력  \n",
        "첫째 줄부터 다섯째 줄까지 보드의 상태가 주어진다. 빈 곳은 \".\"이고, 조각은 \"*\"이다. 조각은 1개 이상 5개 이하이다."
      ]
    },
    {
      "cell_type": "markdown",
      "metadata": {
        "id": "jhIyTEObhUgO",
        "colab_type": "text"
      },
      "source": [
        "출력  \n",
        "첫째 줄에 문제의 정답을 출력한다."
      ]
    },
    {
      "cell_type": "code",
      "metadata": {
        "id": "5QqIhb_qhWN9",
        "colab_type": "code",
        "colab": {}
      },
      "source": [
        "# *...*\n",
        "# .....\n",
        "# .....\n",
        "# .....\n",
        "# *...*\n",
        "\n",
        "#출력값 : 12"
      ],
      "execution_count": null,
      "outputs": []
    },
    {
      "cell_type": "code",
      "metadata": {
        "id": "Hv0y2aBKkmaR",
        "colab_type": "code",
        "colab": {
          "base_uri": "https://localhost:8080/",
          "height": 111
        },
        "outputId": "217cabfc-59bc-4dd2-8a04-aa38e3dbf250"
      },
      "source": [
        "import numpy as np\n",
        "board = np.array([['.'] * 5] * 5)\n",
        "\n",
        "board"
      ],
      "execution_count": 1,
      "outputs": [
        {
          "output_type": "execute_result",
          "data": {
            "text/plain": [
              "array([['.', '.', '.', '.', '.'],\n",
              "       ['.', '.', '.', '.', '.'],\n",
              "       ['.', '.', '.', '.', '.'],\n",
              "       ['.', '.', '.', '.', '.'],\n",
              "       ['.', '.', '.', '.', '.']], dtype='<U1')"
            ]
          },
          "metadata": {
            "tags": []
          },
          "execution_count": 1
        }
      ]
    },
    {
      "cell_type": "code",
      "metadata": {
        "id": "hH5GDPvZlYXu",
        "colab_type": "code",
        "colab": {
          "base_uri": "https://localhost:8080/",
          "height": 185
        },
        "outputId": "e8895c26-82c2-401f-b73c-e704fcc85f7e"
      },
      "source": [
        "no_of_star = int(input(\"put down any number\"))\n",
        "location_of_star = []\n",
        "for i in range(no_of_star):\n",
        "  location = []\n",
        "  for j in range(2):\n",
        "    location.append(int(input(\"put down any number\")))\n",
        "  location_of_star.append(location)\n",
        "\n"
      ],
      "execution_count": 3,
      "outputs": [
        {
          "output_type": "stream",
          "text": [
            "put down any number4\n",
            "put down any number1\n",
            "put down any number1\n",
            "put down any number1\n",
            "put down any number5\n",
            "put down any number5\n",
            "put down any number1\n",
            "put down any number5\n",
            "put down any number5\n"
          ],
          "name": "stdout"
        }
      ]
    },
    {
      "cell_type": "code",
      "metadata": {
        "id": "pyYjrl7oy2XV",
        "colab_type": "code",
        "colab": {
          "base_uri": "https://localhost:8080/",
          "height": 111
        },
        "outputId": "5fe554c4-697e-447a-83ea-e8c3a9e6939c"
      },
      "source": [
        "for i in range(len(location_of_star)):\n",
        "  board[location_of_star[i][0]-1, location_of_star[i][1]-1] = '*'\n",
        "\n",
        "board"
      ],
      "execution_count": 76,
      "outputs": [
        {
          "output_type": "execute_result",
          "data": {
            "text/plain": [
              "array([['*', '.', '.', '.', '*'],\n",
              "       ['.', '.', '.', '.', '.'],\n",
              "       ['.', '.', '.', '.', '.'],\n",
              "       ['.', '.', '.', '.', '.'],\n",
              "       ['*', '.', '.', '.', '*']], dtype='<U1')"
            ]
          },
          "metadata": {
            "tags": []
          },
          "execution_count": 76
        }
      ]
    },
    {
      "cell_type": "code",
      "metadata": {
        "id": "XGkLWSLjnPhf",
        "colab_type": "code",
        "colab": {}
      },
      "source": [
        "def distance(x, y):\n",
        "  return abs(x[0] - y[0]) + abs(x[1] - y[1])"
      ],
      "execution_count": 77,
      "outputs": []
    },
    {
      "cell_type": "code",
      "metadata": {
        "id": "Sm-z722UaX0E",
        "colab_type": "code",
        "colab": {}
      },
      "source": [
        "def close_coordinate(x, y):\n",
        "  if x != 1:\n",
        "    if x!= 5:\n",
        "      if y != 1:\n",
        "        if y!= 5:\n",
        "          return [[x-1, y], [x+1, y], [x, y-1], [x, y+1]]\n",
        "  if x == 1:\n",
        "   if y != 1: \n",
        "    if y != 5:\n",
        "      return [[x, y - 1], [x, y + 1]]\n",
        "  if x == 5:\n",
        "    if y!= 1:\n",
        "      if y!= 5:\n",
        "        return [[x, y - 1], [x, y + 1]]\n",
        "  if y == 1:\n",
        "    if x != 1:\n",
        "      if x!= 5:\n",
        "        return [[x - 1, y], [x + 1, y]]\n",
        "  if y == 5: \n",
        "    if x != 1:\n",
        "      if x!= 5:\n",
        "        return [[x - 1, y], [x + 1, y]]\n",
        "  if x == 1:\n",
        "    if y == 1:\n",
        "      return [[x+1, y], [x, y + 1]]\n",
        "  if x == 1:\n",
        "    if y == 5:\n",
        "      return [[x+1, y], [x, y-1]]\n",
        "  if x == 5:\n",
        "    if y == 1:\n",
        "      return [[x-1, y], [x, y+1]]\n",
        "  if x == 5:\n",
        "    if y == 5:\n",
        "      return [[x-1, y], [x, y-1]]"
      ],
      "execution_count": 78,
      "outputs": []
    },
    {
      "cell_type": "code",
      "metadata": {
        "id": "OCDlDtLGe9_i",
        "colab_type": "code",
        "colab": {}
      },
      "source": [
        "import random\n",
        "choice = random.choice(location_of_star)\n",
        "rest = []\n",
        "for i in range(len(location_of_star)):\n",
        "  if location_of_star[i] != choice:\n",
        "    rest.append(location_of_star[i])\n",
        "choice, rest\n",
        "shortest = 0\n",
        "C = close_coordinate(choice[0], choice[1])\n",
        "\n",
        "choiced = []\n",
        "choiced.append(choice)"
      ],
      "execution_count": 79,
      "outputs": []
    },
    {
      "cell_type": "code",
      "metadata": {
        "id": "1pvIup89kmCG",
        "colab_type": "code",
        "colab": {
          "base_uri": "https://localhost:8080/",
          "height": 36
        },
        "outputId": "c70bed8a-93b4-4c99-e5f2-97bb636b00ba"
      },
      "source": [
        "for i in range(no_of_star - 1):  \n",
        "  all_distance = []\n",
        "  indx = []\n",
        "  for r in rest:\n",
        "    for c in C:\n",
        "      all_distance.append([distance(r, c)])\n",
        "      indx.append([r, c])\n",
        "  shortest += min(all_distance)[0]\n",
        "  choiced.append(indx[all_distance.index(min(all_distance))][0])\n",
        "  rest.remove(indx[all_distance.index(min(all_distance))][0])\n",
        "\n",
        "shortest"
      ],
      "execution_count": 80,
      "outputs": [
        {
          "output_type": "execute_result",
          "data": {
            "text/plain": [
              "13"
            ]
          },
          "metadata": {
            "tags": []
          },
          "execution_count": 80
        }
      ]
    }
  ]
}