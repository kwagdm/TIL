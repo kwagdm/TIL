{
  "nbformat": 4,
  "nbformat_minor": 0,
  "metadata": {
    "colab": {
      "name": "0702_나누기.ipynb",
      "provenance": [],
      "collapsed_sections": [],
      "include_colab_link": true
    },
    "kernelspec": {
      "name": "python3",
      "display_name": "Python 3"
    }
  },
  "cells": [
    {
      "cell_type": "markdown",
      "metadata": {
        "id": "view-in-github",
        "colab_type": "text"
      },
      "source": [
        "<a href=\"https://colab.research.google.com/github/kwagdm/TIL/blob/master/0702_%EB%82%98%EB%88%84%EA%B8%B0.ipynb\" target=\"_parent\"><img src=\"https://colab.research.google.com/assets/colab-badge.svg\" alt=\"Open In Colab\"/></a>"
      ]
    },
    {
      "cell_type": "markdown",
      "metadata": {
        "id": "eYflSUt4yKMK",
        "colab_type": "text"
      },
      "source": [
        "#0702_나누기"
      ]
    },
    {
      "cell_type": "markdown",
      "metadata": {
        "id": "0dH_luU7yO3Z",
        "colab_type": "text"
      },
      "source": [
        "##문제  \n",
        " 두 정수 N과 F가 주어진다. 지민이는 정수 N의 가장 뒤 두 자리를 적절히 바꿔서 N을 F로 나누어 떨어지게 만들려고 한다. 만약 가능한 것이 여러 가지이면, 뒤 두 자리를 가능하면 작게 만들려고 한다.\n",
        "\n",
        "예를 들어, N=275이고, F=5이면, 답은 00이다. 200이 5로 나누어 떨어지기 때문이다. N=1021이고, F=11이면, 정답은 01인데, 1001이 11로 나누어 떨어지기 때문이다.\n",
        "\n",
        "##입력 \n",
        " 첫째 줄에 N, 둘째 줄에 F가 주어진다. N은 100보다 크거나 같고, 2,000,000,000보다 작거나 같은 자연수이다. F는 100보다 작거나 같은 자연수이다.\n",
        "\n",
        "## 출력\n",
        " 첫째 줄에 마지막 두 자리를 모두 출력한다. 한자리이면 앞에 0을 추가해서 두 자리로 만들어야 한다.\n",
        "\n",
        "## 예제입력 - 예제 출력\n",
        "    1000    -    02        \n",
        "     3"
      ]
    },
    {
      "cell_type": "code",
      "metadata": {
        "id": "WovR-qRx-AKf",
        "colab_type": "code",
        "colab": {
          "base_uri": "https://localhost:8080/",
          "height": 72
        },
        "outputId": "0e661b8d-7022-4f4e-de36-becd7fd7b42e"
      },
      "source": [
        "N = int(input('put any natural number above 100 and below 2,000,000,000'))\n",
        "F = int(input('put any natural number 100 or lower'))\n",
        "\n",
        "Number = [i for i in range(int(str(N)[-2] + str(N)[-1]) + 1)]\n",
        "Whole = []\n",
        "for i in Number:\n",
        "  Whole.append(N - i)\n",
        "\n",
        "divided = []\n",
        "for i in Whole:\n",
        "  if i%F == 0:\n",
        "    divided.append(i)\n",
        "\n",
        "if len(divided) == 0:\n",
        "  while True:\n",
        "    if N%F != 0:\n",
        "      N += 1\n",
        "      if N%F == 0:\n",
        "        divided.append(N)\n",
        "        break\n",
        "      \n",
        "print(str(min(divided))[-2] + str(min(divided))[-1])"
      ],
      "execution_count": null,
      "outputs": [
        {
          "output_type": "stream",
          "text": [
            "put any natural number above 100 and below 2,000,000,0001021\n",
            "put any natural number 100 or lower11\n",
            "01\n"
          ],
          "name": "stdout"
        }
      ]
    },
    {
      "cell_type": "code",
      "metadata": {
        "id": "nEN_rRutJn3i",
        "colab_type": "code",
        "colab": {}
      },
      "source": [
        ""
      ],
      "execution_count": null,
      "outputs": []
    }
  ]
}