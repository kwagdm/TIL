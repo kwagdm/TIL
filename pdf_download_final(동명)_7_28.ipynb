{
  "nbformat": 4,
  "nbformat_minor": 0,
  "metadata": {
    "colab": {
      "name": "pdf_download_final(동명)_7.28.ipynb",
      "provenance": [],
      "collapsed_sections": [],
      "mount_file_id": "1p5lzwEzhlpuByq8ShS0FYv4mB1S2cZqQ",
      "authorship_tag": "ABX9TyNNT/tpD48z8CJLQ4Mxt4KW",
      "include_colab_link": true
    },
    "kernelspec": {
      "name": "python3",
      "display_name": "Python 3"
    },
    "widgets": {
      "application/vnd.jupyter.widget-state+json": {
        "ccc0a973d08f40c0b65a46f5052461c2": {
          "model_module": "@jupyter-widgets/controls",
          "model_name": "HBoxModel",
          "state": {
            "_view_name": "HBoxView",
            "_dom_classes": [],
            "_model_name": "HBoxModel",
            "_view_module": "@jupyter-widgets/controls",
            "_model_module_version": "1.5.0",
            "_view_count": null,
            "_view_module_version": "1.5.0",
            "box_style": "",
            "layout": "IPY_MODEL_c264d7554ccd4ba6b5b6c19edd9ce4e4",
            "_model_module": "@jupyter-widgets/controls",
            "children": [
              "IPY_MODEL_9d851199f42b4abeb8500e7ccde412b1",
              "IPY_MODEL_004d29f473fb4adab798a5e70bf47d05"
            ]
          }
        },
        "c264d7554ccd4ba6b5b6c19edd9ce4e4": {
          "model_module": "@jupyter-widgets/base",
          "model_name": "LayoutModel",
          "state": {
            "_view_name": "LayoutView",
            "grid_template_rows": null,
            "right": null,
            "justify_content": null,
            "_view_module": "@jupyter-widgets/base",
            "overflow": null,
            "_model_module_version": "1.2.0",
            "_view_count": null,
            "flex_flow": null,
            "width": null,
            "min_width": null,
            "border": null,
            "align_items": null,
            "bottom": null,
            "_model_module": "@jupyter-widgets/base",
            "top": null,
            "grid_column": null,
            "overflow_y": null,
            "overflow_x": null,
            "grid_auto_flow": null,
            "grid_area": null,
            "grid_template_columns": null,
            "flex": null,
            "_model_name": "LayoutModel",
            "justify_items": null,
            "grid_row": null,
            "max_height": null,
            "align_content": null,
            "visibility": null,
            "align_self": null,
            "height": null,
            "min_height": null,
            "padding": null,
            "grid_auto_rows": null,
            "grid_gap": null,
            "max_width": null,
            "order": null,
            "_view_module_version": "1.2.0",
            "grid_template_areas": null,
            "object_position": null,
            "object_fit": null,
            "grid_auto_columns": null,
            "margin": null,
            "display": null,
            "left": null
          }
        },
        "9d851199f42b4abeb8500e7ccde412b1": {
          "model_module": "@jupyter-widgets/controls",
          "model_name": "FloatProgressModel",
          "state": {
            "_view_name": "ProgressView",
            "style": "IPY_MODEL_de393084956b4137b15032362254e5d4",
            "_dom_classes": [],
            "description": "100%",
            "_model_name": "FloatProgressModel",
            "bar_style": "success",
            "max": 28,
            "_view_module": "@jupyter-widgets/controls",
            "_model_module_version": "1.5.0",
            "value": 28,
            "_view_count": null,
            "_view_module_version": "1.5.0",
            "orientation": "horizontal",
            "min": 0,
            "description_tooltip": null,
            "_model_module": "@jupyter-widgets/controls",
            "layout": "IPY_MODEL_e775f71f82ea4a47aee2da3162a39cb3"
          }
        },
        "004d29f473fb4adab798a5e70bf47d05": {
          "model_module": "@jupyter-widgets/controls",
          "model_name": "HTMLModel",
          "state": {
            "_view_name": "HTMLView",
            "style": "IPY_MODEL_6e9b48909278466a8a2e0496be7666b9",
            "_dom_classes": [],
            "description": "",
            "_model_name": "HTMLModel",
            "placeholder": "​",
            "_view_module": "@jupyter-widgets/controls",
            "_model_module_version": "1.5.0",
            "value": " 28/28 [01:09&lt;00:00,  2.47s/it]",
            "_view_count": null,
            "_view_module_version": "1.5.0",
            "description_tooltip": null,
            "_model_module": "@jupyter-widgets/controls",
            "layout": "IPY_MODEL_cb680b0b08dd41fa80f0ab4db60cabb0"
          }
        },
        "de393084956b4137b15032362254e5d4": {
          "model_module": "@jupyter-widgets/controls",
          "model_name": "ProgressStyleModel",
          "state": {
            "_view_name": "StyleView",
            "_model_name": "ProgressStyleModel",
            "description_width": "initial",
            "_view_module": "@jupyter-widgets/base",
            "_model_module_version": "1.5.0",
            "_view_count": null,
            "_view_module_version": "1.2.0",
            "bar_color": null,
            "_model_module": "@jupyter-widgets/controls"
          }
        },
        "e775f71f82ea4a47aee2da3162a39cb3": {
          "model_module": "@jupyter-widgets/base",
          "model_name": "LayoutModel",
          "state": {
            "_view_name": "LayoutView",
            "grid_template_rows": null,
            "right": null,
            "justify_content": null,
            "_view_module": "@jupyter-widgets/base",
            "overflow": null,
            "_model_module_version": "1.2.0",
            "_view_count": null,
            "flex_flow": null,
            "width": null,
            "min_width": null,
            "border": null,
            "align_items": null,
            "bottom": null,
            "_model_module": "@jupyter-widgets/base",
            "top": null,
            "grid_column": null,
            "overflow_y": null,
            "overflow_x": null,
            "grid_auto_flow": null,
            "grid_area": null,
            "grid_template_columns": null,
            "flex": null,
            "_model_name": "LayoutModel",
            "justify_items": null,
            "grid_row": null,
            "max_height": null,
            "align_content": null,
            "visibility": null,
            "align_self": null,
            "height": null,
            "min_height": null,
            "padding": null,
            "grid_auto_rows": null,
            "grid_gap": null,
            "max_width": null,
            "order": null,
            "_view_module_version": "1.2.0",
            "grid_template_areas": null,
            "object_position": null,
            "object_fit": null,
            "grid_auto_columns": null,
            "margin": null,
            "display": null,
            "left": null
          }
        },
        "6e9b48909278466a8a2e0496be7666b9": {
          "model_module": "@jupyter-widgets/controls",
          "model_name": "DescriptionStyleModel",
          "state": {
            "_view_name": "StyleView",
            "_model_name": "DescriptionStyleModel",
            "description_width": "",
            "_view_module": "@jupyter-widgets/base",
            "_model_module_version": "1.5.0",
            "_view_count": null,
            "_view_module_version": "1.2.0",
            "_model_module": "@jupyter-widgets/controls"
          }
        },
        "cb680b0b08dd41fa80f0ab4db60cabb0": {
          "model_module": "@jupyter-widgets/base",
          "model_name": "LayoutModel",
          "state": {
            "_view_name": "LayoutView",
            "grid_template_rows": null,
            "right": null,
            "justify_content": null,
            "_view_module": "@jupyter-widgets/base",
            "overflow": null,
            "_model_module_version": "1.2.0",
            "_view_count": null,
            "flex_flow": null,
            "width": null,
            "min_width": null,
            "border": null,
            "align_items": null,
            "bottom": null,
            "_model_module": "@jupyter-widgets/base",
            "top": null,
            "grid_column": null,
            "overflow_y": null,
            "overflow_x": null,
            "grid_auto_flow": null,
            "grid_area": null,
            "grid_template_columns": null,
            "flex": null,
            "_model_name": "LayoutModel",
            "justify_items": null,
            "grid_row": null,
            "max_height": null,
            "align_content": null,
            "visibility": null,
            "align_self": null,
            "height": null,
            "min_height": null,
            "padding": null,
            "grid_auto_rows": null,
            "grid_gap": null,
            "max_width": null,
            "order": null,
            "_view_module_version": "1.2.0",
            "grid_template_areas": null,
            "object_position": null,
            "object_fit": null,
            "grid_auto_columns": null,
            "margin": null,
            "display": null,
            "left": null
          }
        },
        "3843d8eb1fc3467cb81fc1f70d3f90d9": {
          "model_module": "@jupyter-widgets/controls",
          "model_name": "HBoxModel",
          "state": {
            "_view_name": "HBoxView",
            "_dom_classes": [],
            "_model_name": "HBoxModel",
            "_view_module": "@jupyter-widgets/controls",
            "_model_module_version": "1.5.0",
            "_view_count": null,
            "_view_module_version": "1.5.0",
            "box_style": "",
            "layout": "IPY_MODEL_44b070c59181492fa2a73e233f9c4309",
            "_model_module": "@jupyter-widgets/controls",
            "children": [
              "IPY_MODEL_b52e1057836f43708d4b9e0a793ec0ca",
              "IPY_MODEL_24878360eb60425f8692e9f9fb867198"
            ]
          }
        },
        "44b070c59181492fa2a73e233f9c4309": {
          "model_module": "@jupyter-widgets/base",
          "model_name": "LayoutModel",
          "state": {
            "_view_name": "LayoutView",
            "grid_template_rows": null,
            "right": null,
            "justify_content": null,
            "_view_module": "@jupyter-widgets/base",
            "overflow": null,
            "_model_module_version": "1.2.0",
            "_view_count": null,
            "flex_flow": null,
            "width": null,
            "min_width": null,
            "border": null,
            "align_items": null,
            "bottom": null,
            "_model_module": "@jupyter-widgets/base",
            "top": null,
            "grid_column": null,
            "overflow_y": null,
            "overflow_x": null,
            "grid_auto_flow": null,
            "grid_area": null,
            "grid_template_columns": null,
            "flex": null,
            "_model_name": "LayoutModel",
            "justify_items": null,
            "grid_row": null,
            "max_height": null,
            "align_content": null,
            "visibility": null,
            "align_self": null,
            "height": null,
            "min_height": null,
            "padding": null,
            "grid_auto_rows": null,
            "grid_gap": null,
            "max_width": null,
            "order": null,
            "_view_module_version": "1.2.0",
            "grid_template_areas": null,
            "object_position": null,
            "object_fit": null,
            "grid_auto_columns": null,
            "margin": null,
            "display": null,
            "left": null
          }
        },
        "b52e1057836f43708d4b9e0a793ec0ca": {
          "model_module": "@jupyter-widgets/controls",
          "model_name": "FloatProgressModel",
          "state": {
            "_view_name": "ProgressView",
            "style": "IPY_MODEL_9091bc24834a476d80f50923e2e924b7",
            "_dom_classes": [],
            "description": "100%",
            "_model_name": "FloatProgressModel",
            "bar_style": "success",
            "max": 265,
            "_view_module": "@jupyter-widgets/controls",
            "_model_module_version": "1.5.0",
            "value": 265,
            "_view_count": null,
            "_view_module_version": "1.5.0",
            "orientation": "horizontal",
            "min": 0,
            "description_tooltip": null,
            "_model_module": "@jupyter-widgets/controls",
            "layout": "IPY_MODEL_2401eb8d74bb4ab097b490c9a2442130"
          }
        },
        "24878360eb60425f8692e9f9fb867198": {
          "model_module": "@jupyter-widgets/controls",
          "model_name": "HTMLModel",
          "state": {
            "_view_name": "HTMLView",
            "style": "IPY_MODEL_3fd480dae1b049c39d94ac6a094761ba",
            "_dom_classes": [],
            "description": "",
            "_model_name": "HTMLModel",
            "placeholder": "​",
            "_view_module": "@jupyter-widgets/controls",
            "_model_module_version": "1.5.0",
            "value": " 265/265 [00:04&lt;00:00, 60.29it/s]",
            "_view_count": null,
            "_view_module_version": "1.5.0",
            "description_tooltip": null,
            "_model_module": "@jupyter-widgets/controls",
            "layout": "IPY_MODEL_6a55adc8323f45ceb9f20954f8f86f91"
          }
        },
        "9091bc24834a476d80f50923e2e924b7": {
          "model_module": "@jupyter-widgets/controls",
          "model_name": "ProgressStyleModel",
          "state": {
            "_view_name": "StyleView",
            "_model_name": "ProgressStyleModel",
            "description_width": "initial",
            "_view_module": "@jupyter-widgets/base",
            "_model_module_version": "1.5.0",
            "_view_count": null,
            "_view_module_version": "1.2.0",
            "bar_color": null,
            "_model_module": "@jupyter-widgets/controls"
          }
        },
        "2401eb8d74bb4ab097b490c9a2442130": {
          "model_module": "@jupyter-widgets/base",
          "model_name": "LayoutModel",
          "state": {
            "_view_name": "LayoutView",
            "grid_template_rows": null,
            "right": null,
            "justify_content": null,
            "_view_module": "@jupyter-widgets/base",
            "overflow": null,
            "_model_module_version": "1.2.0",
            "_view_count": null,
            "flex_flow": null,
            "width": null,
            "min_width": null,
            "border": null,
            "align_items": null,
            "bottom": null,
            "_model_module": "@jupyter-widgets/base",
            "top": null,
            "grid_column": null,
            "overflow_y": null,
            "overflow_x": null,
            "grid_auto_flow": null,
            "grid_area": null,
            "grid_template_columns": null,
            "flex": null,
            "_model_name": "LayoutModel",
            "justify_items": null,
            "grid_row": null,
            "max_height": null,
            "align_content": null,
            "visibility": null,
            "align_self": null,
            "height": null,
            "min_height": null,
            "padding": null,
            "grid_auto_rows": null,
            "grid_gap": null,
            "max_width": null,
            "order": null,
            "_view_module_version": "1.2.0",
            "grid_template_areas": null,
            "object_position": null,
            "object_fit": null,
            "grid_auto_columns": null,
            "margin": null,
            "display": null,
            "left": null
          }
        },
        "3fd480dae1b049c39d94ac6a094761ba": {
          "model_module": "@jupyter-widgets/controls",
          "model_name": "DescriptionStyleModel",
          "state": {
            "_view_name": "StyleView",
            "_model_name": "DescriptionStyleModel",
            "description_width": "",
            "_view_module": "@jupyter-widgets/base",
            "_model_module_version": "1.5.0",
            "_view_count": null,
            "_view_module_version": "1.2.0",
            "_model_module": "@jupyter-widgets/controls"
          }
        },
        "6a55adc8323f45ceb9f20954f8f86f91": {
          "model_module": "@jupyter-widgets/base",
          "model_name": "LayoutModel",
          "state": {
            "_view_name": "LayoutView",
            "grid_template_rows": null,
            "right": null,
            "justify_content": null,
            "_view_module": "@jupyter-widgets/base",
            "overflow": null,
            "_model_module_version": "1.2.0",
            "_view_count": null,
            "flex_flow": null,
            "width": null,
            "min_width": null,
            "border": null,
            "align_items": null,
            "bottom": null,
            "_model_module": "@jupyter-widgets/base",
            "top": null,
            "grid_column": null,
            "overflow_y": null,
            "overflow_x": null,
            "grid_auto_flow": null,
            "grid_area": null,
            "grid_template_columns": null,
            "flex": null,
            "_model_name": "LayoutModel",
            "justify_items": null,
            "grid_row": null,
            "max_height": null,
            "align_content": null,
            "visibility": null,
            "align_self": null,
            "height": null,
            "min_height": null,
            "padding": null,
            "grid_auto_rows": null,
            "grid_gap": null,
            "max_width": null,
            "order": null,
            "_view_module_version": "1.2.0",
            "grid_template_areas": null,
            "object_position": null,
            "object_fit": null,
            "grid_auto_columns": null,
            "margin": null,
            "display": null,
            "left": null
          }
        },
        "b5408b417bcb44ff878d1d2b79c59421": {
          "model_module": "@jupyter-widgets/controls",
          "model_name": "HBoxModel",
          "state": {
            "_view_name": "HBoxView",
            "_dom_classes": [],
            "_model_name": "HBoxModel",
            "_view_module": "@jupyter-widgets/controls",
            "_model_module_version": "1.5.0",
            "_view_count": null,
            "_view_module_version": "1.5.0",
            "box_style": "",
            "layout": "IPY_MODEL_e635c07d50ae4578b18f1780a07a74ab",
            "_model_module": "@jupyter-widgets/controls",
            "children": [
              "IPY_MODEL_5369b42a0a1841eca3f081fb8b4ba06f",
              "IPY_MODEL_0ddf39ca4f6543a2957ad5ac37161474"
            ]
          }
        },
        "e635c07d50ae4578b18f1780a07a74ab": {
          "model_module": "@jupyter-widgets/base",
          "model_name": "LayoutModel",
          "state": {
            "_view_name": "LayoutView",
            "grid_template_rows": null,
            "right": null,
            "justify_content": null,
            "_view_module": "@jupyter-widgets/base",
            "overflow": null,
            "_model_module_version": "1.2.0",
            "_view_count": null,
            "flex_flow": null,
            "width": null,
            "min_width": null,
            "border": null,
            "align_items": null,
            "bottom": null,
            "_model_module": "@jupyter-widgets/base",
            "top": null,
            "grid_column": null,
            "overflow_y": null,
            "overflow_x": null,
            "grid_auto_flow": null,
            "grid_area": null,
            "grid_template_columns": null,
            "flex": null,
            "_model_name": "LayoutModel",
            "justify_items": null,
            "grid_row": null,
            "max_height": null,
            "align_content": null,
            "visibility": null,
            "align_self": null,
            "height": null,
            "min_height": null,
            "padding": null,
            "grid_auto_rows": null,
            "grid_gap": null,
            "max_width": null,
            "order": null,
            "_view_module_version": "1.2.0",
            "grid_template_areas": null,
            "object_position": null,
            "object_fit": null,
            "grid_auto_columns": null,
            "margin": null,
            "display": null,
            "left": null
          }
        },
        "5369b42a0a1841eca3f081fb8b4ba06f": {
          "model_module": "@jupyter-widgets/controls",
          "model_name": "FloatProgressModel",
          "state": {
            "_view_name": "ProgressView",
            "style": "IPY_MODEL_fca61336137048d9bb1986d293a62d18",
            "_dom_classes": [],
            "description": "100%",
            "_model_name": "FloatProgressModel",
            "bar_style": "success",
            "max": 265,
            "_view_module": "@jupyter-widgets/controls",
            "_model_module_version": "1.5.0",
            "value": 265,
            "_view_count": null,
            "_view_module_version": "1.5.0",
            "orientation": "horizontal",
            "min": 0,
            "description_tooltip": null,
            "_model_module": "@jupyter-widgets/controls",
            "layout": "IPY_MODEL_5d7d0b72ad0c49c08609ac868996160c"
          }
        },
        "0ddf39ca4f6543a2957ad5ac37161474": {
          "model_module": "@jupyter-widgets/controls",
          "model_name": "HTMLModel",
          "state": {
            "_view_name": "HTMLView",
            "style": "IPY_MODEL_c63a52745bc248f6820d59e1a4db74a1",
            "_dom_classes": [],
            "description": "",
            "_model_name": "HTMLModel",
            "placeholder": "​",
            "_view_module": "@jupyter-widgets/controls",
            "_model_module_version": "1.5.0",
            "value": " 265/265 [00:39&lt;00:00,  6.67it/s]",
            "_view_count": null,
            "_view_module_version": "1.5.0",
            "description_tooltip": null,
            "_model_module": "@jupyter-widgets/controls",
            "layout": "IPY_MODEL_e77f2af28eb2433c907a7e44fa65045c"
          }
        },
        "fca61336137048d9bb1986d293a62d18": {
          "model_module": "@jupyter-widgets/controls",
          "model_name": "ProgressStyleModel",
          "state": {
            "_view_name": "StyleView",
            "_model_name": "ProgressStyleModel",
            "description_width": "initial",
            "_view_module": "@jupyter-widgets/base",
            "_model_module_version": "1.5.0",
            "_view_count": null,
            "_view_module_version": "1.2.0",
            "bar_color": null,
            "_model_module": "@jupyter-widgets/controls"
          }
        },
        "5d7d0b72ad0c49c08609ac868996160c": {
          "model_module": "@jupyter-widgets/base",
          "model_name": "LayoutModel",
          "state": {
            "_view_name": "LayoutView",
            "grid_template_rows": null,
            "right": null,
            "justify_content": null,
            "_view_module": "@jupyter-widgets/base",
            "overflow": null,
            "_model_module_version": "1.2.0",
            "_view_count": null,
            "flex_flow": null,
            "width": null,
            "min_width": null,
            "border": null,
            "align_items": null,
            "bottom": null,
            "_model_module": "@jupyter-widgets/base",
            "top": null,
            "grid_column": null,
            "overflow_y": null,
            "overflow_x": null,
            "grid_auto_flow": null,
            "grid_area": null,
            "grid_template_columns": null,
            "flex": null,
            "_model_name": "LayoutModel",
            "justify_items": null,
            "grid_row": null,
            "max_height": null,
            "align_content": null,
            "visibility": null,
            "align_self": null,
            "height": null,
            "min_height": null,
            "padding": null,
            "grid_auto_rows": null,
            "grid_gap": null,
            "max_width": null,
            "order": null,
            "_view_module_version": "1.2.0",
            "grid_template_areas": null,
            "object_position": null,
            "object_fit": null,
            "grid_auto_columns": null,
            "margin": null,
            "display": null,
            "left": null
          }
        },
        "c63a52745bc248f6820d59e1a4db74a1": {
          "model_module": "@jupyter-widgets/controls",
          "model_name": "DescriptionStyleModel",
          "state": {
            "_view_name": "StyleView",
            "_model_name": "DescriptionStyleModel",
            "description_width": "",
            "_view_module": "@jupyter-widgets/base",
            "_model_module_version": "1.5.0",
            "_view_count": null,
            "_view_module_version": "1.2.0",
            "_model_module": "@jupyter-widgets/controls"
          }
        },
        "e77f2af28eb2433c907a7e44fa65045c": {
          "model_module": "@jupyter-widgets/base",
          "model_name": "LayoutModel",
          "state": {
            "_view_name": "LayoutView",
            "grid_template_rows": null,
            "right": null,
            "justify_content": null,
            "_view_module": "@jupyter-widgets/base",
            "overflow": null,
            "_model_module_version": "1.2.0",
            "_view_count": null,
            "flex_flow": null,
            "width": null,
            "min_width": null,
            "border": null,
            "align_items": null,
            "bottom": null,
            "_model_module": "@jupyter-widgets/base",
            "top": null,
            "grid_column": null,
            "overflow_y": null,
            "overflow_x": null,
            "grid_auto_flow": null,
            "grid_area": null,
            "grid_template_columns": null,
            "flex": null,
            "_model_name": "LayoutModel",
            "justify_items": null,
            "grid_row": null,
            "max_height": null,
            "align_content": null,
            "visibility": null,
            "align_self": null,
            "height": null,
            "min_height": null,
            "padding": null,
            "grid_auto_rows": null,
            "grid_gap": null,
            "max_width": null,
            "order": null,
            "_view_module_version": "1.2.0",
            "grid_template_areas": null,
            "object_position": null,
            "object_fit": null,
            "grid_auto_columns": null,
            "margin": null,
            "display": null,
            "left": null
          }
        }
      }
    }
  },
  "cells": [
    {
      "cell_type": "markdown",
      "metadata": {
        "id": "view-in-github",
        "colab_type": "text"
      },
      "source": [
        "<a href=\"https://colab.research.google.com/github/kwagdm/TIL/blob/master/pdf_download_final(%EB%8F%99%EB%AA%85)_7_28.ipynb\" target=\"_parent\"><img src=\"https://colab.research.google.com/assets/colab-badge.svg\" alt=\"Open In Colab\"/></a>"
      ]
    },
    {
      "cell_type": "markdown",
      "metadata": {
        "id": "-4htcD71zuNI",
        "colab_type": "text"
      },
      "source": [
        "# Crawling"
      ]
    },
    {
      "cell_type": "code",
      "metadata": {
        "id": "Ewi5mhuOp3S_",
        "colab_type": "code",
        "colab": {}
      },
      "source": [
        "import requests\n",
        "from bs4 import BeautifulSoup"
      ],
      "execution_count": null,
      "outputs": []
    },
    {
      "cell_type": "code",
      "metadata": {
        "id": "V5A-u0UoqA43",
        "colab_type": "code",
        "colab": {}
      },
      "source": [
        "pdf_list = []\n",
        "hw_list= []\n",
        "date_list = []\n",
        "for i in range(5, 33):\n",
        "  url = 'https://www.bok.or.kr/portal/bbs/B0000245/list.do?menuNo=200761&pageIndex={}'.format(i)\n",
        "\n",
        "  resp = requests.get(url)\n",
        "  soup = BeautifulSoup(resp.content, 'lxml')\n",
        "  total = soup.select('div.fileGoupBox ul li a')\n",
        "  b= soup.select('span.date')\n",
        "  count=0\n",
        "\n",
        "  for idx,a in enumerate(total):\n",
        "    if (a['href'][1]=='p')&(a['title'][-3:]=='hwp'):\n",
        "      hw_list.append([b[count].text,a['title'],a['href']])\n",
        "      count+=1\n",
        "    elif (a['href'][1]=='p')&(a['title'][-3:]=='pdf'):\n",
        "      pdf_list.append([b[count-1].text,a['title'],a['href']])"
      ],
      "execution_count": null,
      "outputs": []
    },
    {
      "cell_type": "code",
      "metadata": {
        "id": "_SOCvcaqqCgD",
        "colab_type": "code",
        "colab": {}
      },
      "source": [
        "\n",
        "pdf_list2 = []\n",
        "title_list2 = []\n",
        "date_list2 = []\n",
        "\n",
        "for i in range(len(pdf_list)):\n",
        "  pdf_list2.append(pdf_list[i][2])\n",
        "  title_list2.append(pdf_list[i][1])\n",
        "  date_list2.append(pdf_list[i][0][3:])"
      ],
      "execution_count": null,
      "outputs": []
    },
    {
      "cell_type": "code",
      "metadata": {
        "id": "ZnaZAQvzqDq0",
        "colab_type": "code",
        "colab": {}
      },
      "source": [
        "coun=0\n",
        "for i in range(len(pdf_list2)):\n",
        "  url2 = 'http://www.bok.or.kr' + pdf_list2[i]\n",
        "  if url2:\n",
        "    coun+=1\n",
        "  file_res = requests.get(url2)\n",
        "  with open('{}\\n{}'.format(date_list2[i], title_list2[i]), 'wb') as f:\n",
        "    f.write(file_res.content)"
      ],
      "execution_count": null,
      "outputs": []
    },
    {
      "cell_type": "markdown",
      "metadata": {
        "id": "2f0SXrGszq7A",
        "colab_type": "text"
      },
      "source": [
        "# pdf to text\n"
      ]
    },
    {
      "cell_type": "code",
      "metadata": {
        "id": "yASpa3ivvkqR",
        "colab_type": "code",
        "colab": {
          "base_uri": "https://localhost:8080/",
          "height": 271
        },
        "outputId": "d615d396-64a6-4fd4-a9c6-891e0670291e"
      },
      "source": [
        "!pip3 install pdfminer.six\n",
        "from pdfminer.pdfinterp import PDFResourceManager,PDFPageInterpreter\n",
        "from pdfminer.pdfpage import PDFPage\n",
        "from pdfminer.converter import TextConverter\n",
        "from pdfminer.layout import LAParams\n",
        "from io import StringIO\n",
        "from io import open"
      ],
      "execution_count": null,
      "outputs": [
        {
          "output_type": "stream",
          "text": [
            "Collecting pdfminer.six\n",
            "\u001b[?25l  Downloading https://files.pythonhosted.org/packages/98/12/ab5ebafc4cb2b49847de7bfc26f2d152f42a4af136263152d070c61dfd7d/pdfminer.six-20200726-py3-none-any.whl (5.6MB)\n",
            "\u001b[K     |████████████████████████████████| 5.6MB 2.6MB/s \n",
            "\u001b[?25hRequirement already satisfied: chardet; python_version > \"3.0\" in /usr/local/lib/python3.6/dist-packages (from pdfminer.six) (3.0.4)\n",
            "Requirement already satisfied: sortedcontainers in /usr/local/lib/python3.6/dist-packages (from pdfminer.six) (2.2.2)\n",
            "Collecting cryptography\n",
            "\u001b[?25l  Downloading https://files.pythonhosted.org/packages/ba/91/84a29d6a27fd6dfc21f475704c4d2053d58ed7a4033c2b0ce1b4ca4d03d9/cryptography-3.0-cp35-abi3-manylinux2010_x86_64.whl (2.7MB)\n",
            "\u001b[K     |████████████████████████████████| 2.7MB 37.7MB/s \n",
            "\u001b[?25hRequirement already satisfied: cffi!=1.11.3,>=1.8 in /usr/local/lib/python3.6/dist-packages (from cryptography->pdfminer.six) (1.14.0)\n",
            "Requirement already satisfied: six>=1.4.1 in /usr/local/lib/python3.6/dist-packages (from cryptography->pdfminer.six) (1.15.0)\n",
            "Requirement already satisfied: pycparser in /usr/local/lib/python3.6/dist-packages (from cffi!=1.11.3,>=1.8->cryptography->pdfminer.six) (2.20)\n",
            "Installing collected packages: cryptography, pdfminer.six\n",
            "Successfully installed cryptography-3.0 pdfminer.six-20200726\n"
          ],
          "name": "stdout"
        }
      ]
    },
    {
      "cell_type": "code",
      "metadata": {
        "id": "Byj7H-ogxthv",
        "colab_type": "code",
        "colab": {}
      },
      "source": [
        "def convert_pdf_to_txt(title):\n",
        "    rsrcmgr = PDFResourceManager()\n",
        "    retstr = StringIO()\n",
        "    codec = 'utf-8'\n",
        "    laparams = LAParams()\n",
        "    device = TextConverter(rsrcmgr, retstr, codec = codec, laparams=laparams)\n",
        "    fp = open('{}'.format(title), 'rb') # 여기에 저장된 url에 대한 response.content를 넣어줘야 함\n",
        "    interpreter = PDFPageInterpreter(rsrcmgr, device)\n",
        "    password = \"\"\n",
        "    maxpages = 0\n",
        "    caching = True\n",
        "    pagenos = set()\n",
        "    for page in PDFPage.get_pages(fp, pagenos, maxpages=maxpages, password = password, caching = caching, check_extractable=True):\n",
        "        interpreter.process_page(page)\n",
        "    text = retstr.getvalue()\n",
        "    fp.close()\n",
        "    device.close()\n",
        "    retstr.close()\n",
        "    return text"
      ],
      "execution_count": null,
      "outputs": []
    },
    {
      "cell_type": "code",
      "metadata": {
        "id": "6B8wwXj8zp5g",
        "colab_type": "code",
        "colab": {}
      },
      "source": [
        "titles = []\n",
        "for i in range(len(date_list2)):\n",
        "  titles.append('{}\\n{}'.format(date_list2[i], title_list2[i]))\n",
        "\n",
        "txt_contents = []\n",
        "for i in range(len(titles)):\n",
        "  txt_contents.append(convert_pdf_to_txt(titles[i]))"
      ],
      "execution_count": null,
      "outputs": []
    },
    {
      "cell_type": "code",
      "metadata": {
        "id": "AK5fDXNU6zpX",
        "colab_type": "code",
        "colab": {}
      },
      "source": [
        "# 5페이지 범위 밖 파일들 삭제(2018년 파일들)\n",
        "for i in range(7):\n",
        "  del(txt_contents[0])\n"
      ],
      "execution_count": null,
      "outputs": []
    },
    {
      "cell_type": "code",
      "metadata": {
        "id": "YYyYQ9l9Bgmf",
        "colab_type": "code",
        "colab": {}
      },
      "source": [
        "#hwp 파일 하나 업로드 후 텍스트만 뽑기\n",
        "txt_contents.append(convert_pdf_to_txt('2005.06.28 2005년 제11차 금통위 의사록 - PDF파일.pdf'))"
      ],
      "execution_count": null,
      "outputs": []
    },
    {
      "cell_type": "markdown",
      "metadata": {
        "id": "5HiqB6aNaTiN",
        "colab_type": "text"
      },
      "source": [
        "# 날짜/문장 단위로 나눈 contents dataframe 만들기"
      ]
    },
    {
      "cell_type": "code",
      "metadata": {
        "id": "BHKswLIjFS_Y",
        "colab_type": "code",
        "colab": {}
      },
      "source": [
        "from tqdm.notebook import tqdm"
      ],
      "execution_count": null,
      "outputs": []
    },
    {
      "cell_type": "code",
      "metadata": {
        "id": "XN2CUkDHKNim",
        "colab_type": "code",
        "colab": {
          "base_uri": "https://localhost:8080/",
          "height": 85,
          "referenced_widgets": [
            "ccc0a973d08f40c0b65a46f5052461c2",
            "c264d7554ccd4ba6b5b6c19edd9ce4e4",
            "9d851199f42b4abeb8500e7ccde412b1",
            "004d29f473fb4adab798a5e70bf47d05",
            "de393084956b4137b15032362254e5d4",
            "e775f71f82ea4a47aee2da3162a39cb3",
            "6e9b48909278466a8a2e0496be7666b9",
            "cb680b0b08dd41fa80f0ab4db60cabb0"
          ]
        },
        "outputId": "fb20e60f-f1e2-4372-ead6-9921a0920e64"
      },
      "source": [
        "#dataframe을 만들기 위해 회의 날짜를 크롤링 해오자\n",
        "import re\n",
        "\n",
        "title_date = []\n",
        "for i in tqdm(range(5, 33)):\n",
        "  url = 'https://www.bok.or.kr/portal/bbs/B0000245/list.do?menuNo=200761&pageIndex={}'.format(i)\n",
        "\n",
        "  resp = requests.get(url)\n",
        "  soup = BeautifulSoup(resp.content, 'lxml')\n",
        "  date = soup.select('span.titlesub')\n",
        "  title_date.append(re.findall('\\)\\((.+?)\\)', str(date)))\n",
        "\n",
        "title_only = []\n",
        "for i in range(len(title_date)):\n",
        "  for j in range(len(title_date[0])):\n",
        "    title_only.append(title_date[i][j])\n",
        "\n",
        "for i in range(7):\n",
        "  del(title_only[0])\n",
        "\n",
        "del(title_only[-8:])\n",
        "\n",
        "len(title_only)"
      ],
      "execution_count": null,
      "outputs": [
        {
          "output_type": "display_data",
          "data": {
            "application/vnd.jupyter.widget-view+json": {
              "model_id": "ccc0a973d08f40c0b65a46f5052461c2",
              "version_minor": 0,
              "version_major": 2
            },
            "text/plain": [
              "HBox(children=(FloatProgress(value=0.0, max=28.0), HTML(value='')))"
            ]
          },
          "metadata": {
            "tags": []
          }
        },
        {
          "output_type": "stream",
          "text": [
            "\n"
          ],
          "name": "stdout"
        },
        {
          "output_type": "execute_result",
          "data": {
            "text/plain": [
              "265"
            ]
          },
          "metadata": {
            "tags": []
          },
          "execution_count": 14
        }
      ]
    },
    {
      "cell_type": "code",
      "metadata": {
        "id": "lhWrWuuvabEt",
        "colab_type": "code",
        "colab": {
          "base_uri": "https://localhost:8080/",
          "height": 35
        },
        "outputId": "ea4204ed-3642-435c-fdc4-993fa5c28665"
      },
      "source": [
        "len(title_only), len(txt_contents)"
      ],
      "execution_count": null,
      "outputs": [
        {
          "output_type": "execute_result",
          "data": {
            "text/plain": [
              "(265, 265)"
            ]
          },
          "metadata": {
            "tags": []
          },
          "execution_count": 15
        }
      ]
    },
    {
      "cell_type": "code",
      "metadata": {
        "id": "qOHkejahabCN",
        "colab_type": "code",
        "colab": {
          "base_uri": "https://localhost:8080/",
          "height": 67,
          "referenced_widgets": [
            "3843d8eb1fc3467cb81fc1f70d3f90d9",
            "44b070c59181492fa2a73e233f9c4309",
            "b52e1057836f43708d4b9e0a793ec0ca",
            "24878360eb60425f8692e9f9fb867198",
            "9091bc24834a476d80f50923e2e924b7",
            "2401eb8d74bb4ab097b490c9a2442130",
            "3fd480dae1b049c39d94ac6a094761ba",
            "6a55adc8323f45ceb9f20954f8f86f91"
          ]
        },
        "outputId": "059efb21-43f0-4dba-bb07-f6e3b6423d1e"
      },
      "source": [
        "#contents 문장 단위로 나눠주기\n",
        "text_sentence = []\n",
        "for i in tqdm(range(len(txt_contents))):\n",
        "  text_sentence.append(txt_contents[i])\n"
      ],
      "execution_count": null,
      "outputs": [
        {
          "output_type": "display_data",
          "data": {
            "application/vnd.jupyter.widget-view+json": {
              "model_id": "3843d8eb1fc3467cb81fc1f70d3f90d9",
              "version_minor": 0,
              "version_major": 2
            },
            "text/plain": [
              "HBox(children=(FloatProgress(value=0.0, max=265.0), HTML(value='')))"
            ]
          },
          "metadata": {
            "tags": []
          }
        },
        {
          "output_type": "stream",
          "text": [
            "\n"
          ],
          "name": "stdout"
        }
      ]
    },
    {
      "cell_type": "markdown",
      "metadata": {
        "id": "-8nvAP11T73d",
        "colab_type": "text"
      },
      "source": [
        "# Section 나누기"
      ]
    },
    {
      "cell_type": "code",
      "metadata": {
        "id": "IBvvs2vwMf-p",
        "colab_type": "code",
        "colab": {}
      },
      "source": [
        "def tidy_sentences(section):\n",
        "    sentence_enders = re.compile(r'((?<=[함음됨임봄짐움])(\\s*\\n|\\.|;)|(?<=다)\\.)\\s*')\n",
        "    splits = list((m.start(), m.end()) for m in re.finditer(sentence_enders, section))\n",
        "    starts = [0] + [i[1] for i in splits]\n",
        "    ends = [i[0] for i in splits]\n",
        "    sentences = [section[start:end] for start, end in zip(starts[:-1], ends)]\n",
        "    for i, s in enumerate(sentences):\n",
        "        sentences[i] = (s.replace('\\n', ' ').replace(' ', ' ')) + '.'\n",
        "    text = '\\n'.join(sentences) if len(sentences) > 0 else ''\n",
        "    return sentences, text"
      ],
      "execution_count": null,
      "outputs": []
    },
    {
      "cell_type": "code",
      "metadata": {
        "id": "GKgm1nr-OibZ",
        "colab_type": "code",
        "colab": {}
      },
      "source": [
        "import re \n",
        "def preprocess_minutes(minutes):\n",
        "    pos = re.search('(.?국내외\\s?경제\\s?동향.?과 관련하여,?|\\(가\\).+경제전망.*|\\(가\\) 국내외 경제동향 및 평가)\\n?\\s*일부 위원은', minutes, re.MULTILINE)\n",
        "    s1 = pos.start() if pos else -1\n",
        "    pos = re.search('(.?외환.?국제금융\\s?동향.?과 관련하여.*|\\(나\\) 외환.국제금융\\s?(및 금융시장)?\\s?동향)\\n?\\s*(일부 위원은|대부분의 위원들은)', minutes,re.MULTILINE)\n",
        "    s2 = pos.start() if pos else -1\n",
        "    pos = re.search('(.?금융시장\\s?동향.?과 관련하여,?|\\(다\\) 금융시장\\s?동향)\\n?\\s*일부 위원은', minutes, re.MULTILINE)\n",
        "    s3 = pos.start() if pos else -1\n",
        "    pos = re.search('((\\((다|라)\\) )?.?통화정책\\s?방향.?에 관한 토론,?|이상과 같은 의견\\s?교환을 바탕으로.*통화정책\\s?방향.*에.*토론.*)\\n?', minutes,re.MULTILINE)\n",
        "    s4 = pos.start() if pos else -1\n",
        "    pos = re.search('(\\(4\\) 정부측 열석자 발언.*)\\n?', minutes, re.MULTILINE)\n",
        "    s5 = pos.start() if pos else -1\n",
        "    pos = re.search('(\\(.*\\) 한국은행 기준금리 결정에 관한 위원별 의견\\s?개진|이상과 같은 토론에 이어 .* 관한 위원별 의견개진이 있었음.*)\\n?', minutes,re.MULTILINE)\n",
        "    s6 = pos.start() if pos else -1\n",
        "    positer = re.finditer('(\\(\\s?.*\\s?\\) ()(심의결과|토의결론))\\n?', minutes, re.MULTILINE)\n",
        "    s7 = [pos.start() for pos in positer if pos.start() > s6]\n",
        "    s7 = s7[0] if s7 else -1\n",
        "    # 국내외 경제동향\n",
        "    bos = s1\n",
        "    eos = s2\n",
        "    section = minutes[bos:eos] if bos >= 0 or eos >= 0 else ''\n",
        "    pos = re.search('(일부|대부분의) 위원들?은', section, re.MULTILINE)\n",
        "    bos = pos.start() if pos else -1\n",
        "    section = section[bos:] if bos >= 0 else section\n",
        "    section1, section1_txt = tidy_sentences(section)\n",
        "    # 외환․국제금융 동향\n",
        "    bos = s2\n",
        "    eos = s3 if s3 >= 0 else s4\n",
        "    section = minutes[bos:eos] if bos >= 0 or eos >= 0 else ''\n",
        "    pos = re.search('(일부|대부분의) 위원들?은', section, re.MULTILINE)\n",
        "    bos = pos.start() if pos else -1\n",
        "    section = section[bos:] if bos >= 0 else section\n",
        "    section2, section2_txt = tidy_sentences(section)\n",
        "    #print(section)\n",
        "    # 금융시장 동향\n",
        "    bos = s3\n",
        "    eos = s4\n",
        "    section = minutes[bos:eos] if bos >= 0 or eos >= 0 else ''\n",
        "    pos = re.search('(일부|대부분의) 위원들?은', section, re.MULTILINE)\n",
        "    bos = pos.start() if pos else -1\n",
        "    section = section[bos:] if bos >= 0 else section\n",
        "    section3, section3_txt = tidy_sentences(section)\n",
        "    # 통화정책방향\n",
        "    bos = s4\n",
        "    eos = s5 if s5 >= 0 else s6 if s6 >= 0 else s7\n",
        "    section = minutes[bos:eos] if bos >= 0 or eos >= 0 else ''\n",
        "    pos = re.search('(일부|대부분의) 위원들?은', section, re.MULTILINE)\n",
        "    bos = pos.start() if pos else -1\n",
        "    section = section[bos:] if bos >= 0 else section\n",
        "    section4, section4_txt = tidy_sentences(section)\n",
        "    # 위원별 의견 개진\n",
        "    bos = s6\n",
        "    eos = s7\n",
        "    section = minutes[bos:eos] if bos >= 0 or eos >= 0 else ''\n",
        "    pos = re.search('(일부|대부분의) 위원들?은', section, re.MULTILINE)\n",
        "    bos = pos.start() if pos else -1\n",
        "    section = section[bos:] if bos >= 0 else section\n",
        "    section5, section5_txt = tidy_sentences(section)\n",
        "    # 정부측 열석자 발언\n",
        "    bos = s5\n",
        "    eos = s6\n",
        "    section = minutes[bos:eos] if bos >= 0 or eos >= 0 else ''\n",
        "    pos = re.search('정부측 열석자 발언', section, re.MULTILINE)\n",
        "    bos = pos.end() + 1 if pos else -1\n",
        "    section = section[bos:] if bos >= 0 else section\n",
        "    section6, section6_txt = tidy_sentences(section)\n",
        "    sections = ['Economic Situation', 'Foreign Currency', 'Financial Markets',\n",
        "                'Monetary Policy', \"'Participants' Views\", \"'Government's View\"]\n",
        "    section_texts = (section2, section3)\n",
        "    return  section_texts"
      ],
      "execution_count": null,
      "outputs": []
    },
    {
      "cell_type": "code",
      "metadata": {
        "id": "sdfF4P_iPv76",
        "colab_type": "code",
        "colab": {
          "base_uri": "https://localhost:8080/",
          "height": 67,
          "referenced_widgets": [
            "b5408b417bcb44ff878d1d2b79c59421",
            "e635c07d50ae4578b18f1780a07a74ab",
            "5369b42a0a1841eca3f081fb8b4ba06f",
            "0ddf39ca4f6543a2957ad5ac37161474",
            "fca61336137048d9bb1986d293a62d18",
            "5d7d0b72ad0c49c08609ac868996160c",
            "c63a52745bc248f6820d59e1a4db74a1",
            "e77f2af28eb2433c907a7e44fa65045c"
          ]
        },
        "outputId": "e24dbbbd-c5ba-4172-f709-9d6a6fb25b32"
      },
      "source": [
        "section_two_three = []\n",
        "for i in tqdm(range(len(txt_contents))):\n",
        "  section_two_three.append(preprocess_minutes(txt_contents[i]))"
      ],
      "execution_count": null,
      "outputs": [
        {
          "output_type": "display_data",
          "data": {
            "application/vnd.jupyter.widget-view+json": {
              "model_id": "b5408b417bcb44ff878d1d2b79c59421",
              "version_minor": 0,
              "version_major": 2
            },
            "text/plain": [
              "HBox(children=(FloatProgress(value=0.0, max=265.0), HTML(value='')))"
            ]
          },
          "metadata": {
            "tags": []
          }
        },
        {
          "output_type": "stream",
          "text": [
            "\n"
          ],
          "name": "stdout"
        }
      ]
    },
    {
      "cell_type": "code",
      "metadata": {
        "id": "J3Aox6I-GEc3",
        "colab_type": "code",
        "colab": {
          "base_uri": "https://localhost:8080/",
          "height": 1000
        },
        "outputId": "f1a99150-6ad3-4ad7-e5f8-2d3da03b74be"
      },
      "source": [
        "section[:10]"
      ],
      "execution_count": null,
      "outputs": [
        {
          "output_type": "execute_result",
          "data": {
            "text/plain": [
              "[[],\n",
              " [],\n",
              " [],\n",
              " ['일부 위원은 최근 미국의 금융·경제상황을 보면 금년 12월 미 연준이 금리를  인상할 것으로 예견되고 실물경기도 견조한 회복세를 지속하고 있음에도 불구하  고 수익률곡선은 계속 평탄화되고 있다고 지적하였음.',\n",
              "  '일각에서는 미국의 장기실  질균형금리 및 기대인플레이션의 하락을 그 원인으로 거론하고 있지만 이 같은  요인은 이미 이전부터 장기금리에 반영되어 왔으므로 최근의 수익률곡선 변화를  설명하는 데에 한계가 있는 것으로 보인다고 언급하였음.',\n",
              "  '한편 이러한 현상을 향  후 실물경기의 침체 우려와 글로벌 장기채권 수요의 유입에 따른 결과로 해석하  는 시각도 있다고 소개하고, 이에 대한 관련부서의 견해를 물었음.',\n",
              "  '이에 대해 관련부서에서는 수익률곡선의 평탄화나 장단기금리차의 역전이 장  기금리의 하락에 의해 주도되는 경우에는 향후 실물경기의 침체를 예고하는 신호  (signal)로 받아들여질 수 있겠지만, 최근 미국의 수익률곡선 평탄화는 주로 재무  부의 단기채권 발행 확대 방침, 미 연준의 금리인상 기대 등으로 단기금리가 크  게 상승한 데에 따른 것으로 보인다고 답변하였음.',\n",
              "  '이에 동 위원은 미국의 세제개편안이 의회를 통과한다면 수익률곡선이나 정  책금리 경로가 가팔라질 가능성은 없는지 관련부서의 견해를 물었으며,  이에 대해 관련부서에서는 이번 세제개편안이 법인세율 인하 등 대규모 감세  안을 골자로 하고 있는 만큼 미 금융시장 지표가 동 법안의 처리 관측에 따라 등  락하는 양상을 보이고 있다고 설명하였음.',\n",
              "  '비록 일부 선반영된 측면도 있겠지만  미 의회에서 세제개편안을 가결한다면 재정적자 보전을 위한 장기국채의 발행 전  망이 부각되면서 수익률곡선이 가팔라질 가능성도 있을 것으로 생각된다고 답변  - 9 -  \\x0c이와 관련하여 동 위원은 한·미 간 장기금리의 동조화 경향에도 불구하고 우  리나라의 수익률곡선이 미국과 달리 가팔라지고 있는 이유는 무엇인지 관련부서  의 견해를 물었으며,  이에 대해 관련부서에서는 과거 장기금리의 움직임을 보면 우리나라처럼 정  책금리가 인상국면으로 전환되는 시기에는 선반영하여 상승하였다가 현재의 미국  과 같이 정책금리가 수차례 인상된 다음에 하락하였다고 설명하고, 이러한 측면  이 반영되어 양국 간 수익률곡선이 차별화되고 있는 것으로 풀이된다고 답변하였  하였음.',\n",
              "  '음.',\n",
              "  '이어서 동 위원은 원/달러 환율과의 마이너스 상관관계가 높아지면서 거주자  외화예금이 환율 변동성의 완화요인으로 작용하고 있는 것으로 평가되었는데, 이  들 지표가 플러스의 상관관계를 나타낸 적은 없는지 관련부서에 물었으며,  이에 대해 관련부서에서는 금융위기 당시 거주자 외화예금과 원/달러 환율이  플러스의 상관관계를 나타낸 적이 있다고 답변하였음.',\n",
              "  '이에 동 위원은 이들 지표 간의 마이너스 상관관계가 강화된 것은 외환시장  의 복원력 제고를 반영한 결과로 해석된다는 견해를 밝혔음.',\n",
              "  '또한 동 위원은 이번 가계부채 종합대책을 보면 주로 다주택자와 분양시장에  초점을 두고 있고 신DTI(Debt  to Income), DSR(Debt Service Ratio) 등도 시간을  두고 순차적으로 시행될 예정이어서 가처분소득대비 가계부채비율이 계속 높아질  것으로 보인다는 의견을 나타내었음.',\n",
              "  '이에 대해 관련부서에서는 신DTI, DSR 등의 단계적 시행에는 시장 충격을 완  화하기 위한 측면도 있는 것으로 생각된다고 언급하였음.',\n",
              "  '이에 동 위원은 금년 3/4분기 부동산임대업대출이 큰 폭으로 늘어났다고 지적  하면서, 부동산 익스포저(exposure)가 계속 확대되고 있는지 관련부서에 물었으며,  이에 대해 관련부서에서는 비록 둔화되긴 하였지만 주택담보대출의 증가세가  여전히 높은 수준에 있고 최근 들어 부동산임대업대출도 크게 늘어나고 있어 부  동산 익스포저가 계속 확대되고 있는 것으로 추정된다고 답변하였음.',\n",
              "  '아울러 동 위원은 일각에서는 은행이 대출 증가속도 관리, 수익성 확보 등을  위해 가계대출의 가산금리를 인상하고 있다는 주장이 제기되고 있다고 소개하고,  이에 대한 관련부서의 견해를 물었으며,  이에 대해 관련부서에서는 가계대출 가산금리의 상승은 그간 고정금리·분할상  - 10 -  \\x0c환 목표비율 도입으로 크게 낮아졌던 가산금리가 일부 정상화되는 과정으로도 해  석될 수 있다고 답변하였음.',\n",
              "  '이에 동 위원은 가계대출에 대한 리스크 관리가 강화되면서 은행이 가산금리  의 인하를 통해 개인사업자대출을 확대할 가능성도 있다는 분석이 있는데, 이번  에 발표된 여신심사 가이드라인의 영향에 대해서는 어떻게 평가하고 있는지 관련  부서에 물었으며,  이에 대해 관련부서에서는 개인사업자대출에 대한 여신심사 가이드라인이 시  행되면 업종별 여신한도 설정, 업황 등을 고려한 여신심사 등으로 동 대출의 부  동산임대업 쏠림현상이 일정부분 완화될 것으로 기대되지만, 부동산임대업의 투  자수익률이 상대적으로 높은 데다 은행의 대출취급 유인도 크기 때문에 동 업종  의 대출 증가세가 어느 정도로 둔화될지는 좀 더 지켜봐야 할 것으로 보인다고  답변하였음.',\n",
              "  '이어서 동 위원은 주택담보대출과 관련하여 고LTV·고DTI 대출 비중이 낮아지  고는 있지만 금리상승에 취약한 변동금리대출 비중은 장단기금리차 확대와 더불  어 높아질 조짐을 보이고 있다고 언급하였음.',\n",
              "  '아울러 고정금리대출 중에서 혼합  형금리대출이 상당한 비중을 차지하고 있는 것으로 보인다고 지적하고, 앞으로  금리상승과 더불어 동 대출이 변동금리로 전환되면 가계의 이자부담이 늘어나면  서 부채상환 위험이 높아질 가능성은 없을지 우려된다는 견해를 밝혔음.',\n",
              "  '이에 대해 관련부서에서는 지난 몇 년 전부터 늘어나기 시작한 혼합형금리대  출이 내년부터 고정금리에서 변동금리로 순차적으로 전환될 예정이지만 현 변동  금리가 그 당시 고정금리보다 낮은 수준에 있음을 감안하면 일부 가계의 경우 이  자부담이 오히려 줄어들 것으로 예상된다고 답변하였음.',\n",
              "  '다른 일부 위원은 최근 각종 규제 강화 등으로 기분양주택의 잔금대출 수요  가 유입되면서 신용대출이 일부 늘어난 측면은 없는지 관련부서의 견해를 물었으  며,  이에 대해 관련부서에서는 분양대금 중에서 잔금이 차지하는 비중이 상당하  기 때문에 기존주택의 매도나 신규주택의 임대 등이 여의치 않은 경우에는 잔금  대출 외에도 신용대출 등을 활용하고 있는 것으로 알고 있다고 답변하였음.',\n",
              "  '이에 동 위원은 최근 인터넷전문은행의 신용대출 증가가 이 같은 대출수요의  유입에 따른 것인지, 자체적인 신규수요 발생에 기인한 것인지 점검해 볼 필요가  있다고 당부하였음.',\n",
              "  '- 11 -  \\x0c또 다른 일부 위원은 가계부채 문제가 금융시스템 전반의 리스크로 이어질  가능성은 여전히 제한적인 것으로 보고 있는지 관련부서에 물었으며,  이에 대해 관련부서에서는 금년에 가계부채 증가율이 축소되긴 하였지만 그  절대 수준은 여전히 높은 것으로 평가되고 있다고 답변하였음.',\n",
              "  '이에 동 위원은 내년에는 가계부채의 증가세가 어떠할 것으로 예상되는지 관  련부서에 물었으며,  이에 대해 관련부서에서는 내년에도 가계부채 관리대책 등의 영향으로 가계  부채의 증가세가 둔화될 것으로 보인다고 답변하였음.',\n",
              "  '이에 동 위원은 가처분소득대비 가계부채비율이 이미 높은 수준에 있음을 감  안하면 가계부채 증가율이 가처분소득 증가율에 비추어 좀 더 낮아져야 할 것으  로 보인다는 의견을 나타내었음.',\n",
              "  '이에 대해 일부 위원도 거시건전성 측면이나 통화정책 측면에서도 중장기적  으로 가계부채 증가율이 가처분소득 증가율을 하회하면서 가처분소득대비 가계부  채비율이 낮아져야 할 것으로 판단된다는 견해를 밝혔음.',\n",
              "  '한편 일부 위원은 이번에 발표된 금융회사 여신심사 선진화 방안에 따르면  내년부터 신DTI, RTI(Rent  to Interest), DSR 등이 순차적으로 도입될 예정이라고  언급하면서, 이러한 조치들이 가계부채에는 어떠한 영향을 미칠 것으로 보이는지  관련부서의 견해를 물었으며,  이에 대해 관련부서에서는 신DTI 등이 시차를 두고 시행되는 만큼 가계부채  에 미치는 영향도 서서히 나타날 것으로 예상된다고 답변하였음.',\n",
              "  '이와 관련하여  그간의 대책들은 주로 대출공급 측면에 초점을 맞추어 왔지만 대출수요 측면도  좀 더 고려될 필요가 있을 것으로 보인다고 덧붙였음.',\n",
              "  '이에 동 위원은 작년에 은행권의 여신심사 강화 등에도 불구하고 가계부채가  큰 폭으로 늘어난 사례에 비추어 보면 가계부채에는 다양한 요인들이 복합적으로  영향을 미치고 있는 것으로 보인다는 의견을 나타내었음.',\n",
              "  '이어서 동 위원은 최근의 회사채 순상환 등을 감안할 때 회사채시장이 크게  위축될 우려는 없는지 관련부서의 견해를 물었으며,  이에 대해 관련부서에서는 회사채 순상환이 주로 연말 북클로징(book closing)  등 계절적 요인에 기인하므로 회사채시장이 크게 위축되지는 않을 것으로 보인다  - 12 -  \\x0c고 답변하였음.',\n",
              "  '또한 동 위원은 미국의 금리인상이 신흥국에 미칠 부정적 영향에 대해서는  어떻게 평가하고 있는지 관련부서에 물었으며,  이에 대해 관련부서에서는 이번에 미국이 금리를 인상하게 되면 이로 인해  일부 취약신흥국이 어려움을 겪을 가능성도 있지만 그렇다 하더라도 이것이 신흥  국 전반의 리스크로 확대되지는 않을 것으로 보인다고 답변하였음.',\n",
              "  '아울러 동 위원은 국내 보험사가 해외증권투자를 확대하는 과정에서 외은지  점·해외은행 위주의 스왑자금 공급구조나 외화자금 조달·운용 간 만기불일치 문  제가 외환부문의 리스크 요인으로 작용할 가능성은 없을지 면밀히 모니터링할 필  요가 있다는 의견을 나타내었음.',\n",
              "  '이에 대해 관련부서에서는 선물환포지션한도 규제, 외환건전성부담금 제도 등  이 운영되고 있는 데다 스왑자금을 중개하는 국내은행의 외화유동성 사정도 상당  히 양호한 것으로 평가되고 있어 그 같은 요인이 외환부문의 리스크 요인으로 현  재화될 가능성은 크지 않아 보인다고 답변하였음.',\n",
              "  '다른 일부 위원은 LCR(Liquidity Coverage Ratio) 산정에 유리한 영업적 예금의  인정요건이 강화되면서 은행들이 동 비율 제고를 위해 CD나 금융채 등 시장성  수신을 늘리고 있다고 지적하고, 이에 따른 위험성에 대해서는 어떻게 평가하고  있는지 관련부서에 물었으며,  이에 대해 관련부서에서는 주로 예대율에 여유가 있는 일부 은행들이 시장성  수신을 늘리고 있는 데다 이렇게 조달된 자금도 국고채 등 고유동성자산을 매입  하는 데에 활용되고 있어 시장성 수신의 증가를 크게 우려해야 할 상황은 아닌  것으로 판단된다고 답변하였음.',\n",
              "  '다만 앞으로 이들 자금이 또 다시 시장성 수신을  통해 차환(roll over)될 경우에는 단기금리의 변동성이 일부 확대될 여지는 있을  것으로 보인다고 덧붙였음.',\n",
              "  '이어서 동 위원은 통화정책의 금리경로와 관련하여 채권시장의 미시구조, 수  익률곡선의 효율성 등에 대해 좀 더 심도 있게 연구해 달라고 당부하였음.',\n",
              "  '또 다른 일부 위원은 글로벌 주식시장의 과열을 우려하는 견해가 제기되고  - 13 -  \\x0c있는 가운데 국내 주식시장에서도 그간 상승세를 지속하던 주가가 일부 투자은행  의 반도체 업황에 대한 부정적 전망으로 인해 일시에 반락한 적도 있다고 언급하  면서, 국내 주식시장의 안정성을 어떻게 평가하고 있는지 관련부서의 견해를 물  었으며,  이에 대해 관련부서에서는 기업의 실적 개선, 시장의 수급여건 호전 및 변동  성 축소 등에 비추어 국내 주식시장의 안정성이 과거에 비해 상당히 개선된 것으  로 보인다고 답변하였음.'],\n",
              " [],\n",
              " ['일부 위원은 최근 미국에서는 임금상승세가 확대되고 세제개혁에 대한 기대  감이 커지면서 시장금리 및 달러화 가치의 상승압력이 높아지고 있다고 언급하였  음.',\n",
              "  '그동안 미 연준의 자산매입대상이 국채 이외에 MBS 등으로 확대되어 왔음을  감안할 때 10월부터 시행된 대차대조표의 축소가 비록 금융시장 전반에 미치는  영향은 제한적일지라도 기간프리미엄이나 신용스프레드에는 유의한 영향을 줄 수  있다는 우려가 상존하고 있다고 발언하고, 최근 국제금융시장에 이 같은 징후가  나타나지는 않는지 관련부서에 물었음.',\n",
              "  '이에 대해 관련부서에서는 국제금융시장에서는 미 연준이 대차대조표를 축소  하는 과정에서 기간프리미엄과 신용스프레드가 상승할 것이라는 전망이 제기되고  - 8 -  \\x0c있지만, 아직까지는 이들 지표에 이상 징후는 감지되지 않고 있다고 답변하였음.',\n",
              "  '이에 동 위원은 이번에는 실물경기의 회복이라는 펀더멘털(fundamental)의 개  선이 뒷받침되는 가운데 미 연준의 금리인상과 보유자산 축소가 동시에 진행되고  ECB도 조만간 자산매입 축소계획을 발표할 것으로 예상되고 있다고 언급하였음.',\n",
              "  '그러나 그 과정에서 기간프리미엄이나 신용스프레드가 상승하게 된다면 과거의  사례와 같이 취약신흥국이나 위험자산시장에서 가격조정이 재현될 가능성도 배제  할 수는 없을 것으로 보인다는 의견을 나타내고, 향후 신흥국 자금흐름의 잠재적  불안정성을 어떻게 평가하고 있는지 관련부서의 견해를 물었음.',\n",
              "  '이에 대해 관련부서에서는 최근 신흥국의 금융·경제여건이 대체로 안정된 모  습을 보이고 있음을 감안하면 앞으로 주요국의 통화정책이 정상화되더라도 과거  만큼 그 영향이 크지는 않을 것으로 생각된다고 답변하였음.',\n",
              "  '다만 일부 취약신흥  국의 경우 만성적 경상수지 적자, 과다한 달러화 부채, 정치적 불확실성 등으로  어려움을 겪을 가능성이 있다는 지적도 제기되고 있다고 덧붙였음.',\n",
              "  '이어서 동 위원은 금년 9월 은행 가계대출의 증가세가 둔화되긴 하였지만, 이  는 추석 상여금 지급 등으로 신용대출의 증가폭이 크게 축소되었기 때문인 것으  로 보인다는 의견을 나타내었음.',\n",
              "  '이러한 점을 고려할 때 8·2 주택시장 대책의 효  과를 어떻게 평가하고 있는지 관련부서의 견해를 물었음.',\n",
              "  '이에 대해 관련부서에서는 주택담보대출의 움직임에 비추어 볼 때 8·2 주택시  장 대책의 영향이 서서히 나타나고 있는 것으로 판단된다고 답변하였음.',\n",
              "  '한편 금  년 9월 신용대출의 증가폭 축소는 전월 큰 폭 증가에 따른 반사효과에도 그 원인  이 있는 것으로 분석된다고 첨언하였음.',\n",
              "  '또한 동 위원은 개인사업자대출이 부동산임대업을 위주로 계속 늘어나고 있  다고 언급하면서, 동 대출은 상대적으로 변동금리대출 비중과 일시상환대출 비중  이 높고 차주의 상환능력이 취약하며 부동산경기에도 민감한 것으로 알려져 있다  고 설명하였음.',\n",
              "  '최근 가계대출에 대한 규제가 강화되면서 일부 대출수요가 개인  사업자대출로 이전되고 있는 것으로 보이므로 가계대출을 분석함에 있어서는 개  인사업자대출을 함께 포함하여 살펴볼 필요가 있다는 견해를 밝혔음.',\n",
              "  '이에 대해 관련부서에서는 개인사업자대출은 수요측면과 공급측면 모두 증가  요인이 상존하고 있음을 고려하면 동 대출까지 감안하여 가계대출의 움직임을 살  펴볼 필요가 있는 것으로 보인다고 답변하였음.',\n",
              "  '이에 동 위원은 사업자대출을 받은 개인사업자 중에서 연체자수가 생각보다  많은 것으로 조사되었다는 언론보도가 있었다고 소개하고, 앞으로 부동산경기나  - 9 -  \\x0c건설경기가 둔화되면서 부동산임대업 등 개인사업자대출의 건전성이 빠르게 악화  될 가능성은 없는지 관련부서의 견해를 물었으며,  이에 대해 관련부서에서는 개인사업자대출의 사업자수 기준 연체율이 높게  나타난 것은 주로 소액 차주가 많기 때문인 것으로 보인다고 설명하고, 대출금액  기준으로는 연체율이 낮고 담보대출 비중도 높아 금융기관에서는 동 대출의 건전  성이 양호한 것으로 평가하고 있다고 언급하였음.',\n",
              "  '한편 개인사업자대출이 부동산  임대업을 중심으로 늘어나고는 있지만, 부동산임대업은 부동산경기나 건설경기뿐  만 아니라 임차인이 영위하는 업종, 예를 들어 도소매업, 음식·숙박업 등의 경기  와도 밀접하게 관련되어 있을 것으로 보인다고 답변하였음.',\n",
              "  '다른 일부 위원은 국내 금융·외환시장에는 주요국의 통화정책 정상화, 우리경  제의 성장경로에 대한 기대 변화, 북한 리스크의 증대 등 다양한 변동요인들이  상존하고 있다고 언급하였음.',\n",
              "  '이러한 맥락에서 수익률곡선의 변화를 살펴보면 만  기 1년 이하 구간이 LCR규제 강화에 따른 은행채 발행 확대 등으로 올라간 가운  데 이보다 긴 영역도 북한 리스크에 대한 경계감, 당행 통화정책에 대한 기대 변  화 등으로 상승하고 있다고 설명하고, 이들 요인들 중에서 어떠한 요인이 장기시  장금리에 주로 영향을 미치고 있는 것으로 보이는지 관련부서의 견해를 물었음.',\n",
              "  '이에 대해 관련부서에서는 금년 8월 이후 장기시장금리가 북한 리스크에 대  한 경계감 등으로 크게 상승하였다가 최근에는 당행 통화정책에 대한 기대 변화  에 반응하고 있는 것으로 보인다고 답변하였음.',\n",
              "  '또 다른 일부 위원은 IRS금리에 내재된 기준금리의 인상기대가 서베이 결과  에 비해 높아 보인다고 지적하면서, 이에 대한 관련부서의 견해를 물었으며,  이에 대해 관련부서에서는 IRS금리는 시장의 기대뿐만 아니라 수급여건 등에  의해서도 영향을 받기 때문에 서베이 결과와 병행하여 기준금리의 인상기대를 살  펴봐야 할 것으로 보인다고 답변하였음.',\n",
              "  '다만 IRS금리의 경우 실제 거래손익과  직결되는 만큼 서베이 결과에 포함될 수도 있는 주관적 견해가 나름대로 정제되  어 반영되는 장점을 가지고 있는 것으로 생각된다고 덧붙였음.',\n",
              "  '이에 동 위원은 CD금리의 경직성 등 시장 자체적인 요인으로 인해 IRS금리  에 내재된 기대에 한계가 있는 것은 아닌지 관련부서에 물었으며,  이에 대해 관련부서에서는 그 산출과정에서 비교되는 CD금리의 움직임이 다  소 경직적인 측면도 있지만 이 같은 특성이 CD금리와 교환되는 고정금리인 IRS  - 10 -  \\x0c금리에도 함께 반영되어 있으므로 이것이 IRS금리에 내재된 기대에는 영향을 미  치지 않을 것으로 보인다고 답변하였음.',\n",
              "  '이어서 동 위원은 8·2 주택시장 대책이 점진적이나마 지속적으로 가계대출에  영향을 미칠 것으로 보인다는 관련부서의 견해와 관련하여 경상GDP 성장률 등에  비추어 가계대출의 증가속도가 안정화 단계에 접어든 것으로 평가될 수 있는 수  준은 어느 정도일지, 그 시점은 언제가 될지 등을 좀 더 고민해 볼 필요가 있다  는 의견을 나타내었음.',\n",
              "  '에 물었으며,  승하였다고 답변하였음.',\n",
              "  '또한 동 위원은 최근 상업용부동산 투자수익률의 변동요인에 대해 관련부서  이에 대해 관련부서에서는 상업용부동산 투자수익률의 경우 임대수익률에는  큰 변화가 없는 가운데 자본수익률(capital gain)이 상가 등의 가격이 오르면서 상  한편 일부 위원은 신흥국의 금융·경제여건이 호전되고 있음을 감안할 때 향후  미국의 금리인상에 따른 부정적 영향이 이들 국가를 통해 국내로 파급될 가능성  은 크지 않아 보인다는 의견을 나타내었음.',\n",
              "  '이어서 동 위원은 이번 미 재무부의 환율보고서와 관련하여 앞으로도 대미  무역수지 흑자규모가 축소되고 GDP대비 경상수지 흑자비율도 하락할 것으로 예  상되므로 우리나라가 심층분석 대상국으로 지정될 가능성은 그만큼 낮아질 것으  로 보인다는 견해를 밝혔음.',\n",
              "  '또한 동 위원은 지난 8∼9월중 변동폭이 컸었던 신용대출을 제외하면 8·2 주  택시장 대책에 따른 영향이 가계대출의 증가세 둔화로 점차 가시화되고 있는 것  으로 보아도 되는지 관련부서의 견해를 물었으며,  이에 대해 관련부서에서는 주택시장 대책의 효과가 가계대출 지표에도 서서  히 나타나고 있는 것으로 보인다고 답변하고, 다만 4/4분기에는 가계대출이 큰 폭  으로 늘어나는 경향이 있으므로 증가세가 뚜렷하게 둔화되지는 않을 것으로 예상  된다고 덧붙였음.',\n",
              "  '이에 동 위원은 최근 코픽스(COFIX) 연동 주택담보대출 등의 금리가 상승함.',\n",
              "  '에 따라 그간 진정되지 않던 가계대출의 증가속도가 둔화될 것이라는 언론보도가  - 11 -  \\x0c있었다고 소개하고, 이러한 점을 감안하여 앞으로도 가계대출의 움직임을 지속적  으로 모니터링해 달라고 당부하였음.',\n",
              "  '한편 우리나라의 가처분소득대비 가계부채  비율이 좀 더 낮아져야 될 것으로 보인다고 언급하면서, 가계부채 관리대책, 소득  증대 노력 등 이를 위한 여건이 점차 조성되고 있는 것으로 생각된다는 의견을  나타내었음.',\n",
              "  '아울러 동 위원은 금년 9월 비은행 가계대출 통계가 1∼20일 기준으로 작성  되었는데 하순에는 어떠한 것으로 보이는지 관련부서에 물었으며,  이에 대해 관련부서에서는 9월 하순에는 추석 상여금 지급 등으로 비은행 가  계대출이 다소 줄어든 것으로 보인다고 답변하였음.',\n",
              "  '이어서 동 위원은 앞으로도 중소기업대출이 가계대출 억제 대책, 혁신성장 정  책 등으로 계속 늘어날 것으로 보인다는 의견을 제시하고, 다만 그 과정에서 신  용리스크 등이 부각될 우려는 없는지 면밀히 살펴볼 필요가 있다고 언급하였음.',\n",
              "  '이에 대해 관련부서에서는 국내경기의 회복세가 이어지는 가운데 은행의 리  스크 관리 노력도 계속되고 있는 데다 비록 중소기업대출이 정책적 요인에 의해  늘어난다 하더라도 그 폭이 급격하게 확대될 가능성은 낮아 보이므로 동 대출의  건전성이 갑자기 악화되지는 않을 것으로 생각된다고 답변하였음.',\n",
              "  '또한 동 위원은 최근 은행채 발행 확대 등으로 단기 신용채권시장의 투자심  리가 일부 위축된 가운데 앞으로 회사채시장을 통한 자금조달도 시장금리의 변동  성 확대 우려, 북클로징 등 연말 효과 등으로 다소 주춤해질 가능성이 있다는 관  련부서의 견해에 대해 미국 금리인상, 북한 리스크 등 다양한 요인들이 상존하고  있으므로 채권시장의 동향을 계속하여 면밀히 모니터링해 달라고 당부하였음.',\n",
              "  '아울러 동 위원은 최근 장기시장금리가 상승한 데에는 통화정책에 대한 기대  도 일부 영향을 미친 것으로 보인다고 언급하면서, 향후 장기시장금리는 어떠한  움직임을 보일 것으로 예상되는지 관련부서의 견해를 물었으며,  이에 대해 관련부서에서는 장기시장금리의 움직임은 앞으로의 통화정책방향  에 관한 커뮤니케이션에 따라 달라질 것으로 보인다고 답변하였음.',\n",
              "  '다른 일부 위원은 북한 리스크의 증대에도 불구하고 실물경제지표나 시장가  격지표에 별다른 변화는 감지되지 않고 있다고 언급하였음.',\n",
              "  '다만 CDS 프리미엄  - 12 -  \\x0c이 주요국과는 달리 계속 상승하고 있고 스왑시장에도 일부 취약성이 잠재되어  있는 것으로 평가되고 있으므로 국내 외환시장이나 외화자금시장에 작은 교란이  라도 발생할 우려는 없는지 면밀히 점검하고 그 가능성에도 충분히 대비할 필요  가 있다는 의견을 나타내었음.',\n",
              "  '이어서 동 위원은 지난 몇 년간 9월마다 가계대출의 증가폭이 축소된 이유는  무엇인지 관련부서에 물었으며,  이에 대해 관련부서에서는 주로 신용대출이 8월 휴가철에 늘어났다가 9월 들  어 추석 상여금 지급 등으로 줄어드는 경향이 있기 때문인 것으로 보인다고 답변  하였음.',\n",
              "  '며,  답변하였음.',\n",
              "  '또한 동 위원은 개인사업자대출의 만기는 어느 정도인지 관련부서에 물었으  이에 대해 관련부서에서는 개인사업자대출의 상당부분이 만기 1년 이하라고  또 다른 일부 위원은 북한 리스크가 크게 고조되었던 지난 8∼9월에는 외국  인의 주식·채권 투자자금이 순유출되면서 일각에서는 이러한 기조가 계속될 수도  있다는 우려가 제기되었지만, 다행히 10월 들어 북한 리스크가 추가적으로 증대  되지 않으면서 외국인의 주식·채권 투자 모두 순매수로 전환되었다고 언급하였  음.',\n",
              "  '그렇지만 북한 리스크는 우리경제의 가장 큰 위험요인으로서 외국인의 증권  투자에 영향을 미쳐 금융시장의 변동성을 확대시키고 국내외 경제주체들의 심리  도 위축시킬 수 있는 만큼 이에 계속 유의할 필요가 있다는 의견을 나타내었음.',\n",
              "  '한편 동 위원은 외국인의 증권투자자금이 8∼9월, 두 달 동안 순유출되었지만  1∼7월에는 같은 기간 기준으로 사상 최대규모가 순유입된 바 있어, 1∼9월 기준  으로 보면 여전히 상당규모의 순유입을 기록하고 있다고 발언하였음.',\n",
              "  '외국인의  증권투자자금이 단기간에 급격하게 유출입되는 것뿐만 아니라 대규모의 유출입이  한쪽 방향으로 장기간 지속되는 것도 우리경제에 바람직하지는 않은 것으로 보인  다는 견해를 밝혔음.',\n",
              "  '이러한 맥락에서 앞으로도 외국인의 증권투자자금이 시장상  황의 변화, 자체적인 운용전략 변경, 북한 리스크 등으로 순유출되더라도 그 전에  장기간 큰 폭의 순유입세가 지속되었음을 감안한다면 이는 자금흐름이 조정되는  일부 긍정적인 효과도 있을 것으로 생각된다는 의견을 제시하였음.'],\n",
              " [],\n",
              " ['일부 위원은 미국의 금리 정상화 행보에도 불구하고 미 달러화가 약세기조를  지속하면서 신흥국으로 자본이 유입되고 국제원자재가격이 상승하고 있으며 여타  주요국에서도 통화 강세의 영향으로 인플레이션과 시장금리가 하락압력을 받을  가능성이 있다는 의견을 나타내었음.',\n",
              "  '지난 몇 년 전과 차별화된 이러한 현상은  근본적으로 경기회복세 지속 가능성에 대한 의구심에서 비롯되었다는 시각이 있  다고 소개하고, 미 달러화 약세기조의 원인이 무엇이라고 생각하는지, 앞으로도  이 같은 흐름이 계속 이어질 것으로 보이는지 관련부서의 견해를 물었음.',\n",
              "  '이에 대해 관련부서에서는 미 달러화가 주로 유로화에 대해 약세기조를 보이  고 있다고 언급하고, 이는 유로지역의 경기회복세가 좀 더 강화되는 가운데 국제  금융시장에서 미 연준의 금리인상은 지연되는 반면 ECB의 양적완화는 축소될 것  이라는 기대가 일정부분 반영되고 있기 때문인 것으로 풀이된다고 답변하였음.',\n",
              "  '이에 더하여 미 Trump 정부 정책에 대한 기대 약화 등을 감안할 때 앞으로도 이  러한 기조가 당분간 이어질 가능성도 배제할 수는 없을 것으로 보인다고 덧붙였  음.',\n",
              "  '이에 동 위원은 미 달러화의 약세기조가 지속될 경우에는 미국의 인플레이션  압력이 상승하고 이에 따라 미 연준의 금리 정상화 속도가 빨라지면서 미 달러화  환율 등이 조정을 받을 가능성도 있는 만큼 앞으로도 지속적으로 모니터링할 필  요가 있다고 당부하였음.',\n",
              "  '- 8 -  \\x0c이어서 동 위원은 미 연준의 대차대조표 축소에 따른 영향이 비록 시장금리  에는 제한적이라 하더라도 유동성 상황 등 금융여건에는 어떻게 작용할지 쉽게  예단할 수 없을 것으로 보인다고 지적하고, 앞으로 대차대조표 축소 개시에도 불  구하고 금융시장의 낙관적 투자심리와 완화적 상황이 계속 유지될 수 있을 것으  로 보이는지 관련부서의 견해를 물었으며,  이에 대해 관련부서에서는 미 연준의 대차대조표 축소가 금융시장에 미치는  영향을 최소화하는 방향으로 추진될 것으로 알려지면서 이러한 부분이 금융시장  의 투자심리나 가격변수에도 일정부분 반영되고 있는 것으로 보인다고 답변하였  음.',\n",
              "  '아울러 일각에서는 그 진행과정에서 금융시장의 마찰적 요인 등으로 예기치  않은 충격이 발생할 가능성이 있다는 주장도 제기되고 있다고 첨언하였음.',\n",
              "  '또한 동 위원은 전일 북한 리스크가 재차 부각되었는데 CDS 프리미엄 등 가  격변수에 이상한 조짐은 없는지 관련부서에 물었으며,  이에 대해 관련부서에서는 CDS 프리미엄과 원화 환율이 상승하긴 하였지만  이후에는 NDF 환율이 하락하는 등 금융시장이 안정을 되찾는 모습을 보이고 있  다고 답변하였음.',\n",
              "  '아울러 동 위원은 고정금리부 주택담보대출의 금리가 상승하고 있는 것은 수  익률곡선의 기울기가 완만하나마 가팔라진 가운데 그간 정책당국의 고정금리부  대출 유도, 주택금융공사의 저리상품 공급 등으로 상대적으로 크게 낮아졌던 대  출금리가 일부 정상화되고 있기 때문인 것으로 판단된다는 의견을 나타내었음.',\n",
              "  '이러한 점을 감안할 때 가계신용시장에서는 기준금리의 조정이 없었음에도 불구  하고 새로운 환경 변화에 의해 금융완화의 정도가 다소 축소된 것으로 보인다는  견해를 밝혔음.',\n",
              "  '이에 대해 관련부서에서는 연초 이래 고정금리부 대출금리가 상승하였지만  변동금리부 대출금리까지 감안하면 전체적으로는 주택담보대출 금리에 큰 변화는  없었던 것으로 보인다고 답변하였음.',\n",
              "  '이어서 동 위원은 은행이 금리상승기에 대비하여 변동금리부 주택담보대출을  확대하면서 가계부문으로 금리변동위험이 이전될 수 있으며, 주택금융공사의 적  격대출이 축소되거나 DSR 규제가 도입될 경우에는 일부 실수요자들이 주택자금  조달에 어려움을 겪을 가능성도 있다고 언급하였음.',\n",
              "  '이에 대처하기 위해서는 주  요 선진국과 같이 민간 주도의 장기고정금리 모기지(mortgage) 시장과 커버드 본  - 9 -  \\x0c드(covered bond) 시장을 활성화하여 공적보증에 따른 대출금리의 왜곡현상을 정  상화하는 가운데 은행의 만기불일치 위험 해소 및 원활한 장기자금 조달을 뒷받  침할 필요가 있다는 의견을 제시하였음.',\n",
              "  '또한 동 위원은 이번 주택시장 안정화 대책으로 개별주택담보대출은 증가세  가 둔화되겠지만 집단대출은 기승인된 대출, 신규주택 수요 등으로 당분간 꾸준  히 취급될 것으로 보이는데, 일각에서는 동 조치로 인해 LTV·DTI 규제가 적용되  지 않는 신용대출, 전세자금대출, 개인사업자대출 등으로 대출수요가 이전되고 있  다는 지적도 있다고 언급하고, 이에 대한 관련부서의 견해를 물었으며,  이에 대해 관련부서에서는 LTV·DTI 강화조치가 시행된 지 얼마 되지 않았기  때문에 주택자금관련 대출수요가 신용대출 등으로 이전되고 있는지는 좀 더 지켜  보고 판단해야 할 것으로 보인다고 답변하였음.',\n",
              "  '이에 동 위원은 특히 개인사업자대출은 상대적으로 변동금리부 대출비중이  높고 차주의 상환능력이 취약하며 부동산경기에도 민감한 것으로 평가되고 있다  고 언급하였음.',\n",
              "  '개인사업자대출이 은행, 비은행 모두 부동산임대업 위주로 늘어나  고 있는데, 이번 조치로 동 대출의 증가세가 확대될 가능성은 없는지, 향후 업황  부진에 따른 은행의 리스크 관리 강화로 부동산임대업의 대출수요가 비은행으로  이전되면서 이들 기관의 대출 건전성이 악화될 우려는 없는지 관련부서의 견해를  물었음.',\n",
              "  '이에 대해 관련부서에서는 은행의 높은 대출취급 유인, 상대적으로 양호한 부  동산임대업 수익률, LTV·DTI 강화조치에 따른 영향 등을 감안하면 개인사업자대  출이 좀 더 늘어날 가능성도 있을 것으로 생각된다고 답변하고, 만일 부동산임대  업의 업황이 크게 악화된다면 비은행의 대출 건전성이 저하될 가능성도 배제할  수는 없을 것으로 보인다고 덧붙였음.',\n",
              "  '이에 동 위원은 가계대출에 대한 건전성 규제의 변화로 개인사업자대출, 비주  택담보대출 등이 늘어나면서 금융시스템의 새로운 리스크 요인으로 작용할 가능  성은 없을지 면밀히 모니터링할 필요가 있다고 당부하였음.',\n",
              "  '다른 일부 위원은 북한 리스크 부각으로 금융시장이 단기적으로 영향을 받긴  하였지만 전반적으로 다시 안정되고 있는 것으로 평가되었는데, 이에 대한 외국  인의 경계감은 국내 투자자와 달리 여전한 것으로 보인다는 의견을 나타내었음.',\n",
              "  '이어서 동 위원은 가계대출과 관련하여 최근 신용대출의 수요가 늘어나고 있  - 10 -  \\x0c음에도 불구하고 동 대출의 금리가 하락한 이유는 무엇인지 관련부서에 물었으  며,  이에 대해 관련부서에서는 최근 신용대출 금리가 하락한 것은 일부 은행의  영업확대 노력 등 일시적 요인에 주로 기인한 것이라고 답변하였음.',\n",
              "  '또한 동 위원은 금융안정 측면에서 가처분소득대비 가계부채비율이 어느 수  준(threshold)까지 용인될 수 있는지에 대해서도 좀 더 관심을 기울일 필요가 있다  는 취지로 발언하였음.',\n",
              "  '또 다른 일부 위원은 주택시장 안정화 방안이 발표되긴 하였지만 그 효과가  대출 증가세의 둔화로 가시화되기까지는 다소간의 시일이 소요될 가능성이 있다  는 관련부서의 견해에 대해 좀 더 자세한 설명을 요청하였음.',\n",
              "  '이에 대해 관련부서에서는 LTV·DTI 규제, 중도금대출 보증요건 등에 대한 강  화조치가 각기 시차를 두고 시행되는 데다 계약체결에서 대출실행까지 어느 정도  의 기간이 소요되기 때문에 이번 대책의 영향이 가계대출 지표로는 주택시장만큼  빠르게 나타나지 않을 것으로 보았다고 답변하였음.',\n",
              "  '이어서 동 위원은 최근 IRS금리에 내재된 기준금리 인상 기대가 상당 폭 높  아진 것은 주로 우리경제의 펀더멘털(fundamental) 변화보다는 외부의 통화정책관  련 발언에 기인한 것으로 보인다고 언급하고, 금융시장에서 통화정책은 객관적인  경제지표에 기반하여 결정될 것이라는 기대가 확고하게 형성되어야 이러한 불필  요한 혼선도 줄어들 것으로 생각된다는 견해를 피력하였음.',\n",
              "  '한편 일부 위원은 그간의 지정학적 리스크에 대한 우려가 외국인 증권투자자  금의 유출 등으로 일부 현실화되고 있는 것으로 보인다고 언급하고, 비록 우리나  라의 대외차입여건 등이 대체로 양호한 것으로 평가되고 있지만 앞으로도 이러한  긴장 상태가 계속될 경우에는 어떠할지 우려된다는 의견을 나타내었음.',\n",
              "  '이에 대해 관련부서에서는 최근 북한의 미사일 기술 발전, 북미 간 대립관계  부각 등으로 북한과의 긴장 상태가 국내금융시장에서 국제금융시장의 리스크 요  인으로 발전하고 있다고 언급하고, 그럼에도 불구하고 우리나라의 대외차입여건  등이 대체로 양호한 모습을 나타내고 있는 것은 국내 외화유동성이 풍부하다는  데에 있으며 주요 신용평가사들도 이를 긍정적으로 평가하고 있다고 설명하였음.',\n",
              "  '- 11 -  \\x0c그렇지만 북한 리스크의 전개상황에 따라 그 영향이 달라질 수 있으므로 앞으로  의 추이를 예의 주시하여야 할 것으로 보인다고 답변하였음.',\n",
              "  '이어서 동 위원은 최근 우리나라의 대아세안 수출이 늘어나고 있다고 언급하  고, 앞으로 미국의 금리인상으로 아세안 국가들의 금융·경제 여건이 불안해질 경  우에는 그 영향이 무역경로 등을 통해 우리나라로도 전염될 수 있음에 유의할 필  요가 있다는 견해를 제시하였음.',\n",
              "  '또한 동 위원은 이번 주택시장 안정화 대책으로 개별주택담보대출은 증가세  가 둔화되겠지만 집단대출은 제한적인 영향을 받을 것으로 보인다고 언급하고,  향후 가계부채 종합대책이 발표될 예정인 만큼 가계대출의 추이를 지속적으로 모  니터링하는 한편 비은행대출과 비주택담보대출이 늘어나면서 가계부채의 질적 구  조가 악화될 가능성은 없을지 면밀히 점검할 필요가 있다고 당부하였음.',\n",
              "  '이에 대해 관련부서에서는 정부는 금융기관의 리스크 관리 강화, 가계부채의  구조적 누증요인 해소, 취약계층에 대한 금융지원 등을 통해 중장기적인 시계에  서 가계부채 문제의 연착륙을 도모해 나갈 방침인 것으로 알고 있다고 답변하였  음.',\n",
              "  '아울러 동 위원은 향후 금융여건의 변화에 따라 은행과 차주의 금리조건별  대출의 선호행태가 각각 어떻게 달라질 것인지에 대해서도 정책당국과 다양한 의  견을 나눌 필요가 있다는 견해를 제시하였음.',\n",
              "  '이어서 동 위원은 주택시장의 단기매매경향 등 구조적 요인이 장기모기지 시  장의 활성화를 일부 제약하고 있는 것으로 보인다는 의견을 나타내었음.',\n",
              "  '또한 동 위원은 통화정책 운영에 참고할 수 있도록 저금리 기조의 지속,  LTV·DTI 규제의 완화, 부동산경기의 확장 등 2014년 하반기 이후의 가계부채 누  증원인을 비교·평가하고 이들 원인이 부동산시장, 건설업종, 국내경기 등에는 어  떠한 영향을 미쳤는지 종합적으로 연구해 볼 필요가 있다는 견해를 밝혔음.',\n",
              "  '다른 일부 위원은 지난 몇 년간 가계부채 누증을 야기한 부동산시장의 과열  은 수도권 지역의 신규분양 및 소형아파트 시장을 중심으로 발생한 것으로서 부  동산시장의 전반적인 현상은 아닌 것으로 보인다는 의견을 제시하였음.',\n",
              "  '이러한  - 12 -  \\x0c점을 고려할 때 하반기 신규분양 및 소형아파트 시장이 분양권 전매제한, 중도금  대출 보증요건 강화 등 주택시장 안정화 대책에 어떻게 반응할 것인지 면밀히 지  켜볼 필요가 있으며, 가계부채 안정을 위한 1차적인 대응방안으로서 기준금리 등  거시정책수단을 활용하는 것은 바람직해 보이지 않는다는 견해를 피력하였음.',\n",
              "  '이에 대해 관련부서에서는 아직은 가계부채 문제가 금융시스템 전반의 리스  크로 이어질 가능성을 우려할 상황은 아닌 것으로 판단되지만, 경제규모에 비추  어 가계부채의 총량수준이 높고 그 증가속도도 소득증가율을 상회하고 있어 소비  를 제약하는 요인으로 작용하는 측면도 있다고 답변하였음.',\n",
              "  '또 다른 일부 위원은 앞서 관련부서에서는 우리나라의 대외차입여건 등이 대  체로 양호한 모습을 보이는 것은 풍부한 외화유동성이 이를 뒷받침하고 있기 때  문이라고 설명하였는데, 그렇지만 금년 들어 총외채가 증가세로 돌아서고 단기외  채비중도 다소 높아지는 등 일부 지표는 상반된 움직임을 나타내고 있다고 지적  하면서, 그 이유가 무엇인지 물었으며,  이에 대해 관련부서에서는 금년 들어 총외채 중에서 주로 외국인의 국내 채  권투자 잔액이 늘어났다고 언급하고, 이는 외국인의 외화자금 공급이 수반된 원  화표시부채로서 과거 거주자의 외화자금 수요에서 비롯된 외화표시부채와는 질적  으로 차이가 있는 데다 이렇게 공급된 외화자금이 국내은행 등의 대외자산 운용  에 활용되어 외화유동성이나 순대외채권의 증가로 연결되고 있다는 점에서 그간  우리경제의 불안요인으로 지적되어 왔던 외채와는 구별되어야 할 것으로 보인다  고 답변한 후, 단기외채비중도 소폭 상승하긴 하였지만 OECD국가 평균이나 금융  위기 당시에 비해 상당히 낮은 수준에 있다고 덧붙였음.',\n",
              "  '이에 동 위원은 최근 북한관련 지정학적 리스크가 높아지면서 국내외 경제주  체들이 일부 지표의 움직임에도 민감하게 반응할 수 있는 만큼 이러한 내용을 외  부에 널리 알릴 필요가 있다고 당부하였음.'],\n",
              " [],\n",
              " ['일부 위원은 주요국에서는 성장과 고용이 회복국면의 정점을 향해 가고 있음.',\n",
              "  '에도 불구하고 물가는 목표수준을 하회하면서 통화정책 정상화를 앞둔 글로벌 중  앙은행들의 커뮤니케이션(communication) 및 정책운용 입지가 제약되고 있는 것으  로 보인다고 언급하고, 이러한 상황에서 자칫 통화정책의 정상화가 지나치게 앞  당겨진다면 중앙은행의 물가예측능력, 통화정책 운용체계 등에 대한 신뢰성 문제  - 7 -  \\x0c가 야기될 가능성이 있다는 의견을 나타내었음.',\n",
              "  '중앙은행이 제시하는 정책방향과  시장에서 예상하는 정책경로 간의 격차가 큰 상황에서 향후 통화정책기조의 변화  가능성에 대한 경계감도 높아지고 있다고 발언하였음.',\n",
              "  '이어서 동 위원은 향후 미 연준이 보유자산 축소를 개시하고 정책금리를 추  가로 인상하게 된다면 중국의 금융 불안정성이 다시 부각될 우려는 없는지 관련  부서의 견해를 물었으며,  이에 대해 관련부서에서는 중국의 실물경제지표가 안정된 모습을 보이고 있  는 가운데 통화 증가율, 사회융자총액 증가율도 둔화되어 왔음을 감안해 보면 미  연준의 통화정책 정상화 과정에서 국제금융시장의 변동성이 확대되지 않는 이상  중국의 금융 불안정성이 크게 부각될 가능성은 당분간 크지 않을 것으로 보인다  이에 동 위원은 그간 중국경제를 견인해 왔던 고정투자가 점차 약화되고 있  음을 고려하여 앞으로도 중국의 여건 변화 가능성을 지속적으로 모니터링할 필요  고 답변하였음.',\n",
              "  '가 있다고 당부하였음.',\n",
              "  '또한 동 위원은 가계신용 순환을 HP 필터링 등 통계적 기법을 활용하여 진단  하고 있지만, 향후 가계부채의 조정 가능성, 거시건전성 대책 및 통화정책적 대응  의 필요성 등을 좀 더 엄밀히 판단하기 위해서는 ECB 등 일부 중앙은행과 같이  가계부채의 증가요인을 인구구조의 변화 등 구조적 요인과 주택경기의 변동 등  순환적 요인으로 구분하여 구조적 요인에 따른 가계부채비율의 변화를 추정하고  이에 비추어 가계부채의 적정성을 평가해 볼 필요가 있다고 언급하면서, 이에 대  한 관련부서의 견해를 물었으며,  이에 대해 관련부서에서는 최근 몇 년간의 가계부채 누증은 주로 저금리 지  속, 부동산규제 완화 등 순환적 요인에 기인한 것으로 판단된다고 답변하고, 실물  자산으로서의 높은 주택 선호경향, 가계 중심의 임대주택 공급구조, 고령화에 따  른 중장년 차입계층 확대 등 구조적 요인도 그 배경이 되고 있는 것으로 분석된  다고 답변하였음.',\n",
              "  '다른 일부 위원은 최근 국내 증권사 등이 RP시장을 활용하여 채권투자를 늘  리는 등 레버리지 투자를 확대하고 있는 데에 반해 외국인은 국내 채권을 오히려  순매도하고 있는 것으로 보인다고 언급하면서, 이러한 현상이 이들 투자자의 기  대 변화에 기인한 측면은 없는지 관련부서에 물었으며,  - 8 -  \\x0c이에 대해 관련부서에서는 최근 국내 증권사 등의 레버리지 투자 확대는 위  험선호심리 강화 등에 기인한 것으로 보이지만, 외국인의 국내 채권 순매도는 일  시적인 현상이었던 것으로 분석된다고 답변하였음.',\n",
              "  '이에 동 위원은 만약 채권시장의 변동성이 크게 확대된다면 레버리지 투자로  인해 국내 증권사 등의 유동성 위험이나 거래상대방 위험이 부각될 가능성은 없  는지 관련부서의 견해를 물었으며,  이에 대해 관련부서에서는 아직까지는 그 규모가 크지 않고 레버리지비율도  규제수준을 하회하고 있어 국내 증권사 등의 유동성 위험이나 거래상대방 위험을  우려할 단계는 아닌 것으로 판단되지만, 익일물 위주의 RP거래에는 유의할 필요  가 있는 것으로 생각된다고 답변하였음.',\n",
              "  '이어서 동 위원은 최근 선진국과 신흥국의 장기금리가 다소 차별화되고 있는  이유는 무엇인지 관련부서에 물었으며,  이에 대해 관련부서에서는 지난 6월 Draghi ECB 총재의 발언 이후 선진국에  비해 신흥국의 장기금리 상승폭이 상대적으로 크지 않았던 것은 글로벌 펀드자금  의 유입세 지속에 주로 기인한 것으로 보인다고 답변하고, 국별로도 터키가 상승  하고 멕시코가 하락하는 등 장기금리가 자국 여건에 따라 엇갈리고 있다고 덧붙  였음.',\n",
              "  '또 다른 일부 위원은 최근 들어 외국인 국내 증권투자자금의 유입세가 둔화  되고 있는데, 내외금리차, 지정학적 리스크 부각 등을 감안할 때 앞으로는 어떠할  것으로 보이는지 관련부서의 견해를 물었으며,  이에 대해 관련부서에서는 글로벌 투자심리가 크게 위축되지는 않을 것으로  보이지만, CDS 프리미엄 추세 등을 고려할 때 지정학적 리스크가 어느 정도 영  향을 미칠 가능성도 있다고 답변하였음.',\n",
              "  '이에 동 위원은 글로벌 네트워킹(global networking)이 강화되면서 자국편향  (home bias) 투자가 줄어들고 국가 간 상호투자가 늘어나고 있으므로 정상 상태  (steady state)에서의 자본유출입 방향 및 그 규모에 대해서도 좀 더 고민해 볼 필  요가 있다고 당부하였음.',\n",
              "  '이어서 동 위원은 관계당국과의 가계부채관련 논의에서는 주로 어떠한 내용  들이 거론되고 있는지 관련부서에 물었으며,  이에 대해 관련부서에서는 가계부채 리스크 관리, 취약차주 지원 강화 등 다  - 9 -  \\x0c양한 방안들이 논의되고 있다고 답변하였음.',\n",
              "  '이에 동 위원은 이번 가계부채 종합대책에는 당행의 정책적 제언이 가급적  많이 반영될 수 있도록 계속 노력해 달라고 당부하였음.',\n",
              "  '한편 일부 위원은 물가경로의 향방에 대한 주요국 중앙은행과 국제금융시장  의 시각이 차이를 보이고 있음에 비추어 대외 커뮤니케이션 활동의 중요성이 높  아지고 있는 것으로 보인다는 의견을 나타내었음.',\n",
              "  '이어서 동 위원은 앞서 일부 위원이 언급한 바와 같이 국내 금융시장의 높은  개방도 등을 감안하여 정상 상태에서의 자본유출입 방향 및 그 규모에 대해 좀  더 관심을 가질 필요가 있다고 당부하였음.',\n",
              "  '또한 동 위원은 최근 중국의 M2 증가율이 한 자릿수를 기록하고 사회융자총  액도 증가폭이 축소되었다고 언급하고, 중국의 디레버리징(deleveraging) 과정이  어떻게 평가되고 있는지 관련부서의 견해를 물었으며,  이에 대해 관련부서에서는 중국 당국은 M2 증가율이 점차 안정화 단계에 접  어들고 있으며 사회융자총액의 증가세도 그간 그림자금융 규제 등으로 둔화되어  왔다는 점에서 디레버리징이 완만하게 진행되고 있는 것으로 평가하고 있다고 답  변하였음.',\n",
              "  '가 있다고 당부하였음.',\n",
              "  '이에 동 위원은 그림자금융, 기업구조조정, 부동산시장 등과 관련된 중국의  구조적인 문제들이 당국이 의도하는 대로 개선되고 있는지 계속 모니터링할 필요  아울러 동 위원은 최근 비우량회사채(A등급) 발행이 늘어나는 등 회사채시장  의 여건이 개선되고 있는 것으로 보인다고 언급하고, 앞으로는 어떠할 것으로 예  상하는지 관련부서의 견해를 물었으며,  이에 대해 관련부서에서는 주요국 통화정책기조의 변화 가능성, 연말 북클로  징에 따른 수급불균형 등이 영향을 미칠 수는 있겠지만 작년에 비해서는 회사채  시장의 리스크 요인이 많이 줄어든 것으로 평가된다고 답변하였음.',\n",
              "  '이어서 동 위원은 국내 증권사가 대고객 신용공여 및 레버리지 투자를 위하  여 RP매도를 확대하고 있다고 지적하고, 아직까지 우려할 단계는 아니라 하더라  도 앞으로도 이러한 움직임이 계속될 가능성은 없는지 면밀히 모니터링할 필요가  - 10 -  \\x0c있다는 의견을 나타내었음.',\n",
              "  '또한 동 위원은 총부채원리금상환비율(DSR)의 조기 도입이 쉽지만은 않을 것  이라는 언론보도가 있었다고 언급하면서, 이에 대한 관련부서의 견해를 물었으며,  이에 대해 관련부서에서는 전산시스템 구축문제, 소득산정기준 논란 등이 남  아 있으며 DSR이 준비기간을 거쳐 단계적으로 시행될 예정이라고 답변하였음.',\n",
              "  '이에 동 위원은 DSR의 상한수준이나 운영방식에 관해서도 이견이 많은 만큼  당행도 이러한 논의에 좀 더 적극적으로 참여할 필요가 있다고 당부하였음.',\n",
              "  '다른 일부 위원은 일각에서는 미 Trump 정부의 보호무역주의 정책, 미 연준  의 통화정책 정상화 등으로 국제금융시장에서 신흥국의 취약성에 대한 우려가 부  각될 가능성이 있다는 주장이 제기되었지만, 실제 전개양상을 보면 국제유가의  회복 등으로 경기흐름이 개선되고 미 연준의 금리인상도 점진적으로 이루어지면  서 글로벌 자금이 신흥국으로 계속 유입되고 있다고 언급하고, 이에 대한 관련부  서의 견해를 물었으며,  이에 대해 관련부서에서는 그동안 미국의 금리인상 과정에서 신흥국의 충격  흡수력이 일정부분 제고된 측면이 있는 데다 최근에는 이들 국가의 펀더멘털  (fundamental)도 개선되는 흐름을 나타내면서 국제금융시장에서의 인식도 많이 바  뀌고 있는 것으로 보인다고 언급하고, 이에 따라 글로벌 자금이 신흥국으로 계속  유입되면서 이들 국가의 금리가 하락하고 주가도 강세를 나타내고 있는 것으로  해석된다고 답변하였음.',\n",
              "  '이어서 동 위원은 금년에는 가계대출 증가율이 작년보다 낮은 수준을 나타낼  것으로 예측된 바 있는데, 이를 어떻게 평가하고 있는지 관련부서에 물었으며,  이에 대해 관련부서에서는 금년 가계대출 증가율이 작년보다 둔화된다 하더  라도 가처분소득 증가율 등에 비추어 보면 여전히 높은 수준을 나타낼 것으로 보  인다고 답변하고, 가계대출 증가율이 은행 및 비은행 모두 각각 작년 상반기 및  하반기를 정점으로 점진적으로 낮아지고 있지만, 앞으로도 이러한 추세가 계속될  지는 좀 더 지켜봐야 할 것으로 생각된다고 덧붙였음.',\n",
              "  '다음으로 동 위원은 서울 일부지역의 주택가격 상승이 가계대출 증가세의 확  대요인으로 작용할 가능성은 없는지, 동 대출의 증가세가 신규주택시장에서 기존  주택시장으로 옮겨갈 우려는 없는지 관련부서의 견해를 물었으며,  이에 대해 관련부서에서는 과거 인접지역으로의 가격상승세 확산 사례, 높은  - 11 -  \\x0c주택시가총액 비중 등을 감안할 때 가계대출의 전반적인 흐름이 수도권 지역에  의해 좌우될 가능성도 완전히 배제하기는 어려울 것으로 보인다고 답변하고, 금  년 하반기에는 신규분양물량 확대, 기분양주택 잔금대출 증가 등으로 가계대출이  주로 신규주택시장과 관련하여 늘어날 것으로 예상된다고 언급하였음.',\n",
              "  '이에 더하여 동 위원은 이번 전매제한기간 강화조치로 인해 건설사의 금년  하반기 분양 일정이 미루어질 가능성은 없는지 관련부서의 견해를 물었으며,  이에 대해 관련부서에서는 이번 전매제한기간 강화조치로 투기적 수요가 억  제되는 측면은 있겠지만 향후 발표될 정책관련 불확실성을 고려하면 건설사의 분  양 일정이 내년으로 연기되지는 않을 것으로 보인다고 답변하였음.',\n",
              "  '또한 동 위원은 금년 하반기에는 기분양주택의 잔금대출이 늘어나면서 개별  주택담보대출의 증가폭이 확대될 것으로 보아도 되는지 관련부서에 물었으며,  이에 대해 관련부서에서는 잔금대출이 개별주택담보대출뿐만 아니라 집단대  출로도 취급될 수 있어 일률적으로 말하기는 어렵다고 답변하였음.',\n",
              "  '한편 일부 위원은 스웨덴, 노르웨이 등의 사례에 비추어 거시건전성정책에 대  한 당행의 권고사항(recommendation)을 금융안정보고서에 명시적으로 수록하는  방안에 대해서도 장기적으로 검토해 볼 필요가 있다고 추가 발언하였음.']]"
            ]
          },
          "metadata": {
            "tags": []
          },
          "execution_count": 31
        }
      ]
    },
    {
      "cell_type": "code",
      "metadata": {
        "id": "N3MopY5_5tES",
        "colab_type": "code",
        "colab": {}
      },
      "source": [
        "section = []\n",
        "for i in range(len(section_two_three)):\n",
        "  section.append(section_two_three[i][0] + section_two_three[i][1])"
      ],
      "execution_count": null,
      "outputs": []
    },
    {
      "cell_type": "code",
      "metadata": {
        "id": "38dSoy6caJc8",
        "colab_type": "code",
        "colab": {
          "base_uri": "https://localhost:8080/",
          "height": 419
        },
        "outputId": "a8775414-2162-4b0f-c482-05f2a91d1713"
      },
      "source": [
        "import pandas as pd\n",
        "import numpy as np\n",
        "\n",
        "dic_data = {'date': title_only, 'contents': section}\n",
        "index = [i for i in range(len(txt_contents))]\n",
        "\n",
        "df = pd.DataFrame(dic_data, index = index)\n",
        "df"
      ],
      "execution_count": null,
      "outputs": [
        {
          "output_type": "execute_result",
          "data": {
            "text/html": [
              "<div>\n",
              "<style scoped>\n",
              "    .dataframe tbody tr th:only-of-type {\n",
              "        vertical-align: middle;\n",
              "    }\n",
              "\n",
              "    .dataframe tbody tr th {\n",
              "        vertical-align: top;\n",
              "    }\n",
              "\n",
              "    .dataframe thead th {\n",
              "        text-align: right;\n",
              "    }\n",
              "</style>\n",
              "<table border=\"1\" class=\"dataframe\">\n",
              "  <thead>\n",
              "    <tr style=\"text-align: right;\">\n",
              "      <th></th>\n",
              "      <th>date</th>\n",
              "      <th>contents</th>\n",
              "    </tr>\n",
              "  </thead>\n",
              "  <tbody>\n",
              "    <tr>\n",
              "      <th>0</th>\n",
              "      <td>2017.12.28.</td>\n",
              "      <td>[]</td>\n",
              "    </tr>\n",
              "    <tr>\n",
              "      <th>1</th>\n",
              "      <td>2017.12.14.</td>\n",
              "      <td>[]</td>\n",
              "    </tr>\n",
              "    <tr>\n",
              "      <th>2</th>\n",
              "      <td>2017.12.7.</td>\n",
              "      <td>[]</td>\n",
              "    </tr>\n",
              "    <tr>\n",
              "      <th>3</th>\n",
              "      <td>2017.11.30.</td>\n",
              "      <td>[일부 위원은 최근 미국의 금융·경제상황을 보면 금년 12월 미 연준이 금리를  인...</td>\n",
              "    </tr>\n",
              "    <tr>\n",
              "      <th>4</th>\n",
              "      <td>2017.11.9.</td>\n",
              "      <td>[]</td>\n",
              "    </tr>\n",
              "    <tr>\n",
              "      <th>...</th>\n",
              "      <td>...</td>\n",
              "      <td>...</td>\n",
              "    </tr>\n",
              "    <tr>\n",
              "      <th>260</th>\n",
              "      <td>2005.8.11</td>\n",
              "      <td>[]</td>\n",
              "    </tr>\n",
              "    <tr>\n",
              "      <th>261</th>\n",
              "      <td>2005.7.7</td>\n",
              "      <td>[]</td>\n",
              "    </tr>\n",
              "    <tr>\n",
              "      <th>262</th>\n",
              "      <td>2005.6.23</td>\n",
              "      <td>[]</td>\n",
              "    </tr>\n",
              "    <tr>\n",
              "      <th>263</th>\n",
              "      <td>2005.6.9</td>\n",
              "      <td>[]</td>\n",
              "    </tr>\n",
              "    <tr>\n",
              "      <th>264</th>\n",
              "      <td>2005.5.12</td>\n",
              "      <td>[일부 위원은 내외금리차 역전에 따라  자금의 해외유출이 대규모로 발생될 가능성을 ...</td>\n",
              "    </tr>\n",
              "  </tbody>\n",
              "</table>\n",
              "<p>265 rows × 2 columns</p>\n",
              "</div>"
            ],
            "text/plain": [
              "            date                                           contents\n",
              "0    2017.12.28.                                                 []\n",
              "1    2017.12.14.                                                 []\n",
              "2     2017.12.7.                                                 []\n",
              "3    2017.11.30.  [일부 위원은 최근 미국의 금융·경제상황을 보면 금년 12월 미 연준이 금리를  인...\n",
              "4     2017.11.9.                                                 []\n",
              "..           ...                                                ...\n",
              "260    2005.8.11                                                 []\n",
              "261     2005.7.7                                                 []\n",
              "262    2005.6.23                                                 []\n",
              "263     2005.6.9                                                 []\n",
              "264    2005.5.12  [일부 위원은 내외금리차 역전에 따라  자금의 해외유출이 대규모로 발생될 가능성을 ...\n",
              "\n",
              "[265 rows x 2 columns]"
            ]
          },
          "metadata": {
            "tags": []
          },
          "execution_count": 32
        }
      ]
    },
    {
      "cell_type": "code",
      "metadata": {
        "id": "bTxRXVaC55lb",
        "colab_type": "code",
        "colab": {}
      },
      "source": [
        "df.to_csv(\"한국은행의사록.csv\")"
      ],
      "execution_count": null,
      "outputs": []
    },
    {
      "cell_type": "code",
      "metadata": {
        "id": "zatfAit767Xm",
        "colab_type": "code",
        "colab": {
          "base_uri": "https://localhost:8080/",
          "height": 53
        },
        "outputId": "2937efaf-6e52-4d89-b2b9-c3144b962aa0"
      },
      "source": [
        "df.iloc[3]['contents'][0]"
      ],
      "execution_count": null,
      "outputs": [
        {
          "output_type": "execute_result",
          "data": {
            "application/vnd.google.colaboratory.intrinsic+json": {
              "type": "string"
            },
            "text/plain": [
              "'일부 위원은 최근 미국의 금융·경제상황을 보면 금년 12월 미 연준이 금리를  인상할 것으로 예견되고 실물경기도 견조한 회복세를 지속하고 있음에도 불구하  고 수익률곡선은 계속 평탄화되고 있다고 지적하였음.'"
            ]
          },
          "metadata": {
            "tags": []
          },
          "execution_count": 35
        }
      ]
    },
    {
      "cell_type": "code",
      "metadata": {
        "id": "REIbgUJRJabQ",
        "colab_type": "code",
        "colab": {}
      },
      "source": [
        ""
      ],
      "execution_count": null,
      "outputs": []
    }
  ]
}