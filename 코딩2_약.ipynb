{
  "nbformat": 4,
  "nbformat_minor": 0,
  "metadata": {
    "colab": {
      "name": "코딩2_약.ipynb",
      "provenance": [],
      "include_colab_link": true
    },
    "kernelspec": {
      "name": "python3",
      "display_name": "Python 3"
    }
  },
  "cells": [
    {
      "cell_type": "markdown",
      "metadata": {
        "id": "view-in-github",
        "colab_type": "text"
      },
      "source": [
        "<a href=\"https://colab.research.google.com/github/kwagdm/TIL/blob/master/%EC%BD%94%EB%94%A92_%EC%95%BD.ipynb\" target=\"_parent\"><img src=\"https://colab.research.google.com/assets/colab-badge.svg\" alt=\"Open In Colab\"/></a>"
      ]
    },
    {
      "cell_type": "markdown",
      "metadata": {
        "id": "wvF2ZbVYq8Vu",
        "colab_type": "text"
      },
      "source": [
        "######70세 박종수 할아버지는 매일 매일 약 반알을 먹는다. 손녀 선영이는 종수 할아버지에게 약이 N개 담긴 병을 선물로 주었다.\n",
        "\n",
        "첫째 날에 종수는 병에서 약 하나를 꺼낸다. 그 다음, 그 약을 반으로 쪼개서 한 조각은 먹고, 다른 조각은 다시 병에 넣는다.\n",
        "\n",
        "다음 날부터 종수는 병에서 약을 하나 꺼낸다. (약은 한 조각 전체 일 수도 있고, 쪼갠 반 조각 일 수도 있다) 반 조각이라면 그 약을 먹고, 아니라면 반을 쪼개서 한 조각을 먹고, 다른 조각은 다시 병에 넣는다.\n",
        "\n",
        "종수는 손녀에게 한 조각을 꺼낸 날에는 W를, 반 조각을 꺼낸 날에는 H 보낸다. 손녀는 할아버지에게 받은 문자를 종이에 기록해 놓는다. 총 2N일이 지나면 길이가 2N인 문자열이 만들어지게 된다. 이때, 가능한 서로 다른 문자열의 개수는 총 몇 개일까?\n",
        "\n",
        "\n",
        "입력은 최대 1000개의 테스트 케이스로 이루어져 있다. 각 테스트 케이스는 한 줄이며, 병에 들어있는 약의 개수 N ≤ 30 가 주어진다.\n",
        "\n",
        "입력의 마지막 줄에는 0이 하나 주어진다.\n",
        "각 테스트 케이스에 대해서 가능한 문자열의 개수를 출력한다."
      ]
    },
    {
      "cell_type": "code",
      "metadata": {
        "id": "UMXxGYkSR0hH",
        "colab_type": "code",
        "colab": {
          "base_uri": "https://localhost:8080/",
          "height": 54
        },
        "outputId": "aaa603f5-b5eb-4be1-b263-ef94424cd60e"
      },
      "source": [
        "N = input('put down any number under 30')\n",
        "h = 0\n",
        "w = int(N)\n",
        "word = []\n",
        "lists = []\n",
        "\n",
        "import random\n",
        "\n",
        "for i in range(int(N)*2):\n",
        "  if i == 0:\n",
        "    w -= 1\n",
        "    h += 1\n",
        "    word.append('W')\n",
        "\n",
        "  elif i == (int(N)*2) - 1:\n",
        "    h -= 1\n",
        "    word.append('H')\n",
        "\n",
        "  else:\n",
        "    c = random.choice([0.5, 1])\n",
        "\n",
        "    if c == 0.5:\n",
        "      if h == 0:\n",
        "        pass\n",
        "      if h > 0:\n",
        "        h -= 1\n",
        "        word.append('H')\n",
        "      \n",
        "    if c == 1:\n",
        "      if w > 0:\n",
        "        w -= 1\n",
        "        h += 1\n",
        "        word.append('W')\n",
        "      if w == 0:\n",
        "        pass\n",
        "\n",
        "  if len(word) == int(N)*2:\n",
        "    lists.append(word)     \n",
        " \n",
        "  \n",
        "lists\n",
        "  "
      ],
      "execution_count": null,
      "outputs": [
        {
          "output_type": "stream",
          "text": [
            "put down any number under 3020\n"
          ],
          "name": "stdout"
        },
        {
          "output_type": "execute_result",
          "data": {
            "text/plain": [
              "[]"
            ]
          },
          "metadata": {
            "tags": []
          },
          "execution_count": 174
        }
      ]
    },
    {
      "cell_type": "code",
      "metadata": {
        "id": "6-Zl4LtwVwUq",
        "colab_type": "code",
        "colab": {
          "base_uri": "https://localhost:8080/",
          "height": 35
        },
        "outputId": "0c71e5b5-1010-4dbb-f468-deff19cf9617"
      },
      "source": [
        "2"
      ],
      "execution_count": null,
      "outputs": [
        {
          "output_type": "execute_result",
          "data": {
            "text/plain": [
              "2"
            ]
          },
          "metadata": {
            "tags": []
          },
          "execution_count": 162
        }
      ]
    },
    {
      "cell_type": "code",
      "metadata": {
        "id": "wfulz7wUvY1d",
        "colab_type": "code",
        "colab": {}
      },
      "source": [
        ""
      ],
      "execution_count": null,
      "outputs": []
    }
  ]
}