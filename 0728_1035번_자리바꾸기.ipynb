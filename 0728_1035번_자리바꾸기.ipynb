{
  "nbformat": 4,
  "nbformat_minor": 0,
  "metadata": {
    "colab": {
      "name": "0728_1035번_자리바꾸기.ipynb",
      "provenance": [],
      "authorship_tag": "ABX9TyO1d9M4wlIDjakRecmcDGoi",
      "include_colab_link": true
    },
    "kernelspec": {
      "name": "python3",
      "display_name": "Python 3"
    }
  },
  "cells": [
    {
      "cell_type": "markdown",
      "metadata": {
        "id": "view-in-github",
        "colab_type": "text"
      },
      "source": [
        "<a href=\"https://colab.research.google.com/github/kwagdm/TIL/blob/master/0728_1035%EB%B2%88_%EC%9E%90%EB%A6%AC%EB%B0%94%EA%BE%B8%EA%B8%B0.ipynb\" target=\"_parent\"><img src=\"https://colab.research.google.com/assets/colab-badge.svg\" alt=\"Open In Colab\"/></a>"
      ]
    },
    {
      "cell_type": "markdown",
      "metadata": {
        "id": "Qz3uZAWihNbg",
        "colab_type": "text"
      },
      "source": [
        "조각 움직이기 분류"
      ]
    },
    {
      "cell_type": "markdown",
      "metadata": {
        "id": "2kjXgjpRhOvo",
        "colab_type": "text"
      },
      "source": [
        "문제  \n",
        "최대 5개의 조각이 있는 5*5 크기의 보드가 있다. 김지민은 조각을 적절히 움직여서 모든 조각이 연결 요소를 이루게 하려고 한다. 즉 상하좌우로 인접한 조각을 모두 연결했을 때, 모든 쌍의 조각이 적어도 하나의 경로로 연결되어 있어야 한다.  \n",
        "  \n",
        "한 번의 이동으로 하나의 조각을 상하좌우로 인접한 칸으로 옮길 수 있다. 보드의 상태가 주어질 때, 최소 몇 번 이동해야 모든 조각이 연결 요소를 이루게 되는지 구하는 프로그램을 작성하시오."
      ]
    },
    {
      "cell_type": "markdown",
      "metadata": {
        "id": "aIgYimomhQe2",
        "colab_type": "text"
      },
      "source": [
        "입력  \n",
        "첫째 줄부터 다섯째 줄까지 보드의 상태가 주어진다. 빈 곳은 \".\"이고, 조각은 \"*\"이다. 조각은 1개 이상 5개 이하이다."
      ]
    },
    {
      "cell_type": "markdown",
      "metadata": {
        "id": "jhIyTEObhUgO",
        "colab_type": "text"
      },
      "source": [
        "출력  \n",
        "첫째 줄에 문제의 정답을 출력한다."
      ]
    },
    {
      "cell_type": "code",
      "metadata": {
        "id": "5QqIhb_qhWN9",
        "colab_type": "code",
        "colab": {}
      },
      "source": [
        "# *...*\n",
        "# .....\n",
        "# .....\n",
        "# .....\n",
        "# *...*\n",
        "\n",
        "#출력값 : 12"
      ],
      "execution_count": null,
      "outputs": []
    },
    {
      "cell_type": "code",
      "metadata": {
        "id": "Hv0y2aBKkmaR",
        "colab_type": "code",
        "colab": {
          "base_uri": "https://localhost:8080/",
          "height": 111
        },
        "outputId": "7bf65abf-1c9d-4086-d1e0-2f7fb50fd38c"
      },
      "source": [
        "import numpy as np\n",
        "board = np.array([['.'] * 5] * 5)\n",
        "\n",
        "board"
      ],
      "execution_count": 2,
      "outputs": [
        {
          "output_type": "execute_result",
          "data": {
            "text/plain": [
              "array([['.', '.', '.', '.', '.'],\n",
              "       ['.', '.', '.', '.', '.'],\n",
              "       ['.', '.', '.', '.', '.'],\n",
              "       ['.', '.', '.', '.', '.'],\n",
              "       ['.', '.', '.', '.', '.']], dtype='<U1')"
            ]
          },
          "metadata": {
            "tags": []
          },
          "execution_count": 2
        }
      ]
    },
    {
      "cell_type": "code",
      "metadata": {
        "id": "hH5GDPvZlYXu",
        "colab_type": "code",
        "colab": {
          "base_uri": "https://localhost:8080/",
          "height": 185
        },
        "outputId": "b9bde51e-4131-46fe-d339-d91fb9f7d3a2"
      },
      "source": [
        "no_of_star = int(input(\"put down any number\"))\n",
        "location_of_star = []\n",
        "for i in range(no_of_star):\n",
        "  location = []\n",
        "  for j in range(2):\n",
        "    location.append(int(input(\"put down any number\")))\n",
        "  location_of_star.append(location)\n",
        "\n"
      ],
      "execution_count": 148,
      "outputs": [
        {
          "output_type": "stream",
          "text": [
            "put down any number4\n",
            "put down any number1\n",
            "put down any number1\n",
            "put down any number1\n",
            "put down any number5\n",
            "put down any number5\n",
            "put down any number1\n",
            "put down any number5\n",
            "put down any number5\n"
          ],
          "name": "stdout"
        }
      ]
    },
    {
      "cell_type": "code",
      "metadata": {
        "id": "pyYjrl7oy2XV",
        "colab_type": "code",
        "colab": {
          "base_uri": "https://localhost:8080/",
          "height": 111
        },
        "outputId": "050c134d-cae2-42fd-f016-f070666ca1af"
      },
      "source": [
        "for i in range(len(location_of_star)):\n",
        "  board[location_of_star[i][0]-1, location_of_star[i][1]-1] = '*'\n",
        "\n",
        "board"
      ],
      "execution_count": 149,
      "outputs": [
        {
          "output_type": "execute_result",
          "data": {
            "text/plain": [
              "array([['*', '.', '.', '.', '*'],\n",
              "       ['.', '.', '.', '.', '.'],\n",
              "       ['.', '.', '.', '.', '.'],\n",
              "       ['.', '.', '.', '.', '.'],\n",
              "       ['*', '.', '.', '.', '*']], dtype='<U1')"
            ]
          },
          "metadata": {
            "tags": []
          },
          "execution_count": 149
        }
      ]
    },
    {
      "cell_type": "code",
      "metadata": {
        "id": "XGkLWSLjnPhf",
        "colab_type": "code",
        "colab": {}
      },
      "source": [
        "def distance(x, y):\n",
        "  return abs(x[0] - y[0]) + abs(x[1] - y[1])"
      ],
      "execution_count": 150,
      "outputs": []
    },
    {
      "cell_type": "code",
      "metadata": {
        "id": "Sm-z722UaX0E",
        "colab_type": "code",
        "colab": {}
      },
      "source": [
        "def close_coordinate(x, y):\n",
        "  if x != 1:\n",
        "    if x!= 5:\n",
        "      if y != 1:\n",
        "        if y!= 5:\n",
        "          return [[x-1, y], [x+1, y], [x, y-1], [x, y+1]]\n",
        "  if x == 1:\n",
        "   if y != 1: \n",
        "    if y != 5:\n",
        "      return [[x, y - 1], [x, y + 1]]\n",
        "  if x == 5:\n",
        "    if y!= 1:\n",
        "      if y!= 5:\n",
        "        return [[x, y - 1], [x, y + 1]]\n",
        "  if y == 1:\n",
        "    if x != 1:\n",
        "      if x!= 5:\n",
        "        return [[x - 1, y], [x + 1, y]]\n",
        "  if y == 5: \n",
        "    if x != 1:\n",
        "      if x!= 5:\n",
        "        return [[x - 1, y], [x + 1, y]]\n",
        "  if x == 1:\n",
        "    if y == 1:\n",
        "      return [[x+1, y], [x, y + 1]]\n",
        "  if x == 1:\n",
        "    if y == 5:\n",
        "      return [[x+1, y], [x, y-1]]\n",
        "  if x == 5:\n",
        "    if y == 1:\n",
        "      return [[x-1, y], [x, y+1]]\n",
        "  if x == 5:\n",
        "    if y == 5:\n",
        "      return [[x-1, y], [x, y-1]]"
      ],
      "execution_count": 151,
      "outputs": []
    },
    {
      "cell_type": "code",
      "metadata": {
        "id": "OCDlDtLGe9_i",
        "colab_type": "code",
        "colab": {
          "base_uri": "https://localhost:8080/",
          "height": 36
        },
        "outputId": "d894ba55-1d2b-4d05-bc9d-9d2a06a5b86f"
      },
      "source": [
        "import random\n",
        "choice = random.choice(location_of_star)\n",
        "choice"
      ],
      "execution_count": 152,
      "outputs": [
        {
          "output_type": "execute_result",
          "data": {
            "text/plain": [
              "[5, 1]"
            ]
          },
          "metadata": {
            "tags": []
          },
          "execution_count": 152
        }
      ]
    },
    {
      "cell_type": "code",
      "metadata": {
        "id": "1pvIup89kmCG",
        "colab_type": "code",
        "colab": {
          "base_uri": "https://localhost:8080/",
          "height": 36
        },
        "outputId": "4ea9851e-e1c4-483a-d77e-3d8737eb306d"
      },
      "source": [
        "rest = []\n",
        "for i in range(len(location_of_star)):\n",
        "  if location_of_star[i] != choice:\n",
        "    rest.append(location_of_star[i])\n",
        "rest"
      ],
      "execution_count": 153,
      "outputs": [
        {
          "output_type": "execute_result",
          "data": {
            "text/plain": [
              "[[1, 1], [1, 5], [5, 5]]"
            ]
          },
          "metadata": {
            "tags": []
          },
          "execution_count": 153
        }
      ]
    },
    {
      "cell_type": "code",
      "metadata": {
        "id": "S09VO9BekN9p",
        "colab_type": "code",
        "colab": {
          "base_uri": "https://localhost:8080/",
          "height": 36
        },
        "outputId": "2e0c78f2-c79b-42a4-c47b-992a9c1cfcdb"
      },
      "source": [
        "C = close_coordinate(choice[0], choice[1])\n",
        "C"
      ],
      "execution_count": 154,
      "outputs": [
        {
          "output_type": "execute_result",
          "data": {
            "text/plain": [
              "[[4, 1], [5, 2]]"
            ]
          },
          "metadata": {
            "tags": []
          },
          "execution_count": 154
        }
      ]
    },
    {
      "cell_type": "code",
      "metadata": {
        "id": "ykeJi3-Alfw2",
        "colab_type": "code",
        "colab": {
          "base_uri": "https://localhost:8080/",
          "height": 55
        },
        "outputId": "7151facf-1cbb-4c14-a9c3-b2bb11a96e28"
      },
      "source": [
        "all_distance = []\n",
        "indx = []\n",
        "for idx, r in enumerate(rest):\n",
        "  for jdx, c in enumerate(C):\n",
        "    all_distance.append([distance(r, c)])\n",
        "    indx.append([idx, jdx])\n",
        "all_distance, indx"
      ],
      "execution_count": 155,
      "outputs": [
        {
          "output_type": "execute_result",
          "data": {
            "text/plain": [
              "([[3], [5], [7], [7], [5], [3]],\n",
              " [[0, 0], [0, 1], [1, 0], [1, 1], [2, 0], [2, 1]])"
            ]
          },
          "metadata": {
            "tags": []
          },
          "execution_count": 155
        }
      ]
    },
    {
      "cell_type": "code",
      "metadata": {
        "id": "jlCgjwRJm9Hn",
        "colab_type": "code",
        "colab": {
          "base_uri": "https://localhost:8080/",
          "height": 36
        },
        "outputId": "553a09fd-8ed8-4b3d-ee2f-80ef569e8f31"
      },
      "source": [
        "rest[indx[all_distance.index(min(all_distance))][0]], C[indx[all_distance.index(min(all_distance))][1]]"
      ],
      "execution_count": 156,
      "outputs": [
        {
          "output_type": "execute_result",
          "data": {
            "text/plain": [
              "([1, 1], [4, 1])"
            ]
          },
          "metadata": {
            "tags": []
          },
          "execution_count": 156
        }
      ]
    },
    {
      "cell_type": "code",
      "metadata": {
        "id": "mV3-VThDpIHM",
        "colab_type": "code",
        "colab": {
          "base_uri": "https://localhost:8080/",
          "height": 36
        },
        "outputId": "0728ee65-ed15-498f-a6b9-72622489ace7"
      },
      "source": [
        "min(all_distance)"
      ],
      "execution_count": 157,
      "outputs": [
        {
          "output_type": "execute_result",
          "data": {
            "text/plain": [
              "[3]"
            ]
          },
          "metadata": {
            "tags": []
          },
          "execution_count": 157
        }
      ]
    },
    {
      "cell_type": "code",
      "metadata": {
        "id": "1kU1R6C_nzFN",
        "colab_type": "code",
        "colab": {
          "base_uri": "https://localhost:8080/",
          "height": 36
        },
        "outputId": "ef88a103-569a-4f10-94e4-639308ef0975"
      },
      "source": [
        "shortest = 0\n",
        "shortest += min(all_distance)[0]\n",
        "rest[indx[all_distance.index(min(all_distance))][0]] = C[indx[all_distance.index(min(all_distance))][1]]\n",
        "rest.pop(indx[all_distance.index(min(all_distance))][0])"
      ],
      "execution_count": 158,
      "outputs": [
        {
          "output_type": "execute_result",
          "data": {
            "text/plain": [
              "[4, 1]"
            ]
          },
          "metadata": {
            "tags": []
          },
          "execution_count": 158
        }
      ]
    },
    {
      "cell_type": "code",
      "metadata": {
        "id": "KJj-papVpDpW",
        "colab_type": "code",
        "colab": {
          "base_uri": "https://localhost:8080/",
          "height": 36
        },
        "outputId": "85aeecfb-87c0-4769-81d3-10202141b4b0"
      },
      "source": [
        "rest"
      ],
      "execution_count": 159,
      "outputs": [
        {
          "output_type": "execute_result",
          "data": {
            "text/plain": [
              "[[1, 5], [5, 5]]"
            ]
          },
          "metadata": {
            "tags": []
          },
          "execution_count": 159
        }
      ]
    },
    {
      "cell_type": "code",
      "metadata": {
        "id": "byW3UJqVpmSZ",
        "colab_type": "code",
        "colab": {
          "base_uri": "https://localhost:8080/",
          "height": 36
        },
        "outputId": "95a4c9cb-8c62-45bf-e302-c65242e39993"
      },
      "source": [
        "close = []\n",
        "for i in range(len(rest)):\n",
        "  close.append(close_coordinate(rest[i][0], rest[i][1]))\n",
        "close"
      ],
      "execution_count": 160,
      "outputs": [
        {
          "output_type": "execute_result",
          "data": {
            "text/plain": [
              "[[[2, 5], [1, 4]], [[4, 5], [5, 4]]]"
            ]
          },
          "metadata": {
            "tags": []
          },
          "execution_count": 160
        }
      ]
    },
    {
      "cell_type": "code",
      "metadata": {
        "id": "KHtQlMOwqGoF",
        "colab_type": "code",
        "colab": {
          "base_uri": "https://localhost:8080/",
          "height": 36
        },
        "outputId": "a6d88f7b-b47d-43bb-ca75-c1c4a7672c4f"
      },
      "source": [
        "all_distance = []\n",
        "indx = []\n",
        "for idx, r in enumerate(rest):\n",
        "  for jdx, c in enumerate(close[0]):\n",
        "    all_distance.append([distance(r, c)])\n",
        "    indx.append([idx, jdx])\n",
        "all_distance, indx"
      ],
      "execution_count": 161,
      "outputs": [
        {
          "output_type": "execute_result",
          "data": {
            "text/plain": [
              "([[1], [1], [3], [5]], [[0, 0], [0, 1], [1, 0], [1, 1]])"
            ]
          },
          "metadata": {
            "tags": []
          },
          "execution_count": 161
        }
      ]
    },
    {
      "cell_type": "code",
      "metadata": {
        "id": "ZAnbl9o-qMHL",
        "colab_type": "code",
        "colab": {
          "base_uri": "https://localhost:8080/",
          "height": 36
        },
        "outputId": "66a55241-d331-4dfe-a39e-84d29ec9b0c7"
      },
      "source": [
        "rest[indx[all_distance.index(min(all_distance))][0]], C[indx[all_distance.index(min(all_distance))][1]]"
      ],
      "execution_count": 162,
      "outputs": [
        {
          "output_type": "execute_result",
          "data": {
            "text/plain": [
              "([1, 5], [4, 1])"
            ]
          },
          "metadata": {
            "tags": []
          },
          "execution_count": 162
        }
      ]
    },
    {
      "cell_type": "code",
      "metadata": {
        "id": "np52VzWVq3Ek",
        "colab_type": "code",
        "colab": {
          "base_uri": "https://localhost:8080/",
          "height": 36
        },
        "outputId": "a93f980d-2b95-42d7-f954-0369f51e4ac8"
      },
      "source": [
        "shortest += min(all_distance)[0]\n",
        "rest[indx[all_distance.index(min(all_distance))][0]] = C[indx[all_distance.index(min(all_distance))][1]]\n",
        "rest.pop(indx[all_distance.index(min(all_distance))][0])"
      ],
      "execution_count": 163,
      "outputs": [
        {
          "output_type": "execute_result",
          "data": {
            "text/plain": [
              "[4, 1]"
            ]
          },
          "metadata": {
            "tags": []
          },
          "execution_count": 163
        }
      ]
    },
    {
      "cell_type": "code",
      "metadata": {
        "id": "L1WKTExBq6gZ",
        "colab_type": "code",
        "colab": {
          "base_uri": "https://localhost:8080/",
          "height": 36
        },
        "outputId": "ce2231a5-caac-4a36-bfab-e31ea20802f9"
      },
      "source": [
        "rest"
      ],
      "execution_count": 164,
      "outputs": [
        {
          "output_type": "execute_result",
          "data": {
            "text/plain": [
              "[[5, 5]]"
            ]
          },
          "metadata": {
            "tags": []
          },
          "execution_count": 164
        }
      ]
    },
    {
      "cell_type": "code",
      "metadata": {
        "id": "Cjc5kAn9q9NS",
        "colab_type": "code",
        "colab": {
          "base_uri": "https://localhost:8080/",
          "height": 36
        },
        "outputId": "34ba56ad-f2ab-4b4f-c933-4102000c62e4"
      },
      "source": [
        "close = []\n",
        "for i in range(len(rest)):\n",
        "  close.append(close_coordinate(rest[i][0], rest[i][1]))\n",
        "close"
      ],
      "execution_count": 165,
      "outputs": [
        {
          "output_type": "execute_result",
          "data": {
            "text/plain": [
              "[[[4, 5], [5, 4]]]"
            ]
          },
          "metadata": {
            "tags": []
          },
          "execution_count": 165
        }
      ]
    },
    {
      "cell_type": "code",
      "metadata": {
        "id": "MEoaMoQBrAPH",
        "colab_type": "code",
        "colab": {
          "base_uri": "https://localhost:8080/",
          "height": 36
        },
        "outputId": "9799f58d-b693-47dc-cd24-0199ea97866b"
      },
      "source": [
        "all_distance = []\n",
        "indx = []\n",
        "for idx, r in enumerate(rest):\n",
        "  for jdx, c in enumerate(close[0]):\n",
        "    all_distance.append([distance(r, c)])\n",
        "    indx.append([idx, jdx])\n",
        "all_distance, indx"
      ],
      "execution_count": 166,
      "outputs": [
        {
          "output_type": "execute_result",
          "data": {
            "text/plain": [
              "([[1], [1]], [[0, 0], [0, 1]])"
            ]
          },
          "metadata": {
            "tags": []
          },
          "execution_count": 166
        }
      ]
    },
    {
      "cell_type": "code",
      "metadata": {
        "id": "aScP_REfrB3l",
        "colab_type": "code",
        "colab": {
          "base_uri": "https://localhost:8080/",
          "height": 36
        },
        "outputId": "2e31d80e-f708-429b-9c94-2d182c70d5d3"
      },
      "source": [
        "rest[indx[all_distance.index(min(all_distance))][0]], C[indx[all_distance.index(min(all_distance))][1]]"
      ],
      "execution_count": 167,
      "outputs": [
        {
          "output_type": "execute_result",
          "data": {
            "text/plain": [
              "([5, 5], [4, 1])"
            ]
          },
          "metadata": {
            "tags": []
          },
          "execution_count": 167
        }
      ]
    },
    {
      "cell_type": "code",
      "metadata": {
        "id": "GLxX_wdBrEW6",
        "colab_type": "code",
        "colab": {
          "base_uri": "https://localhost:8080/",
          "height": 36
        },
        "outputId": "da444ccf-236d-4d16-9587-db7e7a4420df"
      },
      "source": [
        "shortest += min(all_distance)[0]\n",
        "rest[indx[all_distance.index(min(all_distance))][0]] = C[indx[all_distance.index(min(all_distance))][1]]\n",
        "rest.pop(indx[all_distance.index(min(all_distance))][0])"
      ],
      "execution_count": 168,
      "outputs": [
        {
          "output_type": "execute_result",
          "data": {
            "text/plain": [
              "[4, 1]"
            ]
          },
          "metadata": {
            "tags": []
          },
          "execution_count": 168
        }
      ]
    },
    {
      "cell_type": "code",
      "metadata": {
        "id": "o9K4UjVsrGU1",
        "colab_type": "code",
        "colab": {
          "base_uri": "https://localhost:8080/",
          "height": 36
        },
        "outputId": "1e38f735-88ed-4dca-e121-24eb88d0206d"
      },
      "source": [
        "shortest"
      ],
      "execution_count": 169,
      "outputs": [
        {
          "output_type": "execute_result",
          "data": {
            "text/plain": [
              "5"
            ]
          },
          "metadata": {
            "tags": []
          },
          "execution_count": 169
        }
      ]
    },
    {
      "cell_type": "code",
      "metadata": {
        "id": "34awtyX7rHCQ",
        "colab_type": "code",
        "colab": {}
      },
      "source": [
        ""
      ],
      "execution_count": 146,
      "outputs": []
    }
  ]
}