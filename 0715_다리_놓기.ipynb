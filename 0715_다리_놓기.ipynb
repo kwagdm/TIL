{
  "nbformat": 4,
  "nbformat_minor": 0,
  "metadata": {
    "colab": {
      "name": "0715_다리 놓기.ipynb",
      "provenance": [],
      "collapsed_sections": [],
      "include_colab_link": true
    },
    "kernelspec": {
      "name": "python3",
      "display_name": "Python 3"
    }
  },
  "cells": [
    {
      "cell_type": "markdown",
      "metadata": {
        "id": "view-in-github",
        "colab_type": "text"
      },
      "source": [
        "<a href=\"https://colab.research.google.com/github/kwagdm/TIL/blob/master/0715_%EB%8B%A4%EB%A6%AC_%EB%86%93%EA%B8%B0.ipynb\" target=\"_parent\"><img src=\"https://colab.research.google.com/assets/colab-badge.svg\" alt=\"Open In Colab\"/></a>"
      ]
    },
    {
      "cell_type": "markdown",
      "metadata": {
        "id": "cdls_oJqrUC4",
        "colab_type": "text"
      },
      "source": [
        "# 다리 놓기\n",
        "## 문제\n",
        "재원이는 한 도시의 시장이 되었다. 이 도시에는 도시를 동쪽과 서쪽으로 나누는 큰 강이 흐르고 있다. 하지만 재원이는 다리가 없어서 시민들이 강을 건너는데 큰 불편을 겪고 있음을 알고 다리를 짓기로 결심하였다. 강 주변에서 다리를 짓기에 적합한 곳을 사이트라고 한다. 재원이는 강 주변을 면밀히 조사해 본 결과 강의 서쪽에는 N개의 사이트가 있고 동쪽에는 M개의 사이트가 있다는 것을 알았다. (N ≤ M)\n",
        "\n",
        "재원이는 서쪽의 사이트와 동쪽의 사이트를 다리로 연결하려고 한다. (이때 한 사이트에는 최대 한 개의 다리만 연결될 수 있다.) 재원이는 다리를 최대한 많이 지으려고 하기 때문에 서쪽의 사이트 개수만큼 (N개) 다리를 지으려고 한다. 다리끼리는 서로 겹쳐질 수 없다고 할 때 다리를 지을 수 있는 경우의 수를 구하는 프로그램을 작성하라.\n",
        "![대체 텍스트](https://www.acmicpc.net/upload/201003/pic1.JPG)\n",
        "\n",
        "## 입력\n",
        "입력의 첫 줄에는 테스트 케이스의 개수 T가 주어진다. 그 다음 줄부터 각각의 테스트케이스에 대해 강의 서쪽과 동쪽에 있는 사이트의 개수 정수 N, M (0 < N ≤ M < 30)이 주어진다.\n",
        "\n",
        "# 출력\n",
        "각 테스트 케이스에 대해 주어진 조건하에 다리를 지을 수 있는 경우의 수를 출력한다.\n",
        "\n",
        "# 예제 입력   \n",
        "  3                             \n",
        "  1 5                          \n",
        "  13 29  \n",
        "# 예제 출력\n",
        "  1  \n",
        "  5  \n",
        "  67863915  "
      ]
    },
    {
      "cell_type": "code",
      "metadata": {
        "id": "7n_N-ub4rcpA",
        "colab_type": "code",
        "colab": {
          "base_uri": "https://localhost:8080/",
          "height": 72
        },
        "outputId": "562e5643-d6e3-46d0-ddeb-3471eec501c2"
      },
      "source": [
        "N = int(input('put down any natural number below 30'))\n",
        "M = int(input('put down any natural number above N, below 30'))\n",
        "\n",
        "def denominator(n):\n",
        "  a = 1\n",
        "  while True:\n",
        "    a = a*n\n",
        "    n -= 1\n",
        "    if n == 1:\n",
        "      break\n",
        "  return a\n",
        "\n",
        "def numerator(m, n):\n",
        "  b = 1\n",
        "  m_ = m\n",
        "  while True:\n",
        "    b = b*m_\n",
        "    m_ -= 1\n",
        "    if m_ == m - n:\n",
        "      break    \n",
        "  return b\n",
        "\n",
        "def combination(m, n):\n",
        "  return int(numerator(m, n)/denominator(n))\n",
        "\n",
        "combination(M, N)"
      ],
      "execution_count": null,
      "outputs": [
        {
          "output_type": "stream",
          "text": [
            "put down any natural number below 3013\n",
            "put down any natural number above N, below 3029\n"
          ],
          "name": "stdout"
        },
        {
          "output_type": "execute_result",
          "data": {
            "text/plain": [
              "67863915"
            ]
          },
          "metadata": {
            "tags": []
          },
          "execution_count": 1
        }
      ]
    },
    {
      "cell_type": "code",
      "metadata": {
        "id": "uQ8Jfm7lITa_",
        "colab_type": "code",
        "colab": {}
      },
      "source": [
        "\n",
        "\n"
      ],
      "execution_count": null,
      "outputs": []
    },
    {
      "cell_type": "code",
      "metadata": {
        "id": "yyM3ZUz4IV2J",
        "colab_type": "code",
        "colab": {}
      },
      "source": [
        ""
      ],
      "execution_count": null,
      "outputs": []
    },
    {
      "cell_type": "code",
      "metadata": {
        "id": "1JGuwpG2Lo_G",
        "colab_type": "code",
        "colab": {}
      },
      "source": [
        ""
      ],
      "execution_count": null,
      "outputs": []
    }
  ]
}