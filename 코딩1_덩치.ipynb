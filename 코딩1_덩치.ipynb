{
  "nbformat": 4,
  "nbformat_minor": 0,
  "metadata": {
    "colab": {
      "name": "코딩1_덩치.ipynb",
      "provenance": [],
      "collapsed_sections": [],
      "authorship_tag": "ABX9TyNjTHmIgxYUQ5S8WmCw5hqp",
      "include_colab_link": true
    },
    "kernelspec": {
      "name": "python3",
      "display_name": "Python 3"
    }
  },
  "cells": [
    {
      "cell_type": "markdown",
      "metadata": {
        "id": "view-in-github",
        "colab_type": "text"
      },
      "source": [
        "<a href=\"https://colab.research.google.com/github/kwagdm/TIL/blob/master/%EC%BD%94%EB%94%A91_%EB%8D%A9%EC%B9%98.ipynb\" target=\"_parent\"><img src=\"https://colab.research.google.com/assets/colab-badge.svg\" alt=\"Open In Colab\"/></a>"
      ]
    },
    {
      "cell_type": "markdown",
      "metadata": {
        "id": "Yd07RZgMLRDw",
        "colab_type": "text"
      },
      "source": [
        "우리는 사람의 덩치를 키와 몸무게, 이 두 개의 값으로 표현하여 그 등수를 매겨보려고 한다. 어떤 사람의 몸무게가 x kg이고 키가 y cm라면 이 사람의 덩치는 (x,y)로 표시된다. 두 사람 A 와 B의 덩치가 각각 (x,y), (p,q)라고 할 때 x>p 그리고 y>q 이라면 우리는 A의 덩치가 B의 덩치보다 \"더 크다\"고 말한다. 예를 들어 어떤 A, B 두 사람의 덩치가 각각 (56,177), (45,165) 라고 한다면 A의 덩치가 B보다 큰 셈이 된다. 그런데 서로 다른 덩치끼리 크기를 정할 수 없는 경우도 있다. 예를 들어 두 사람 C와 D의 덩치가 각각 (45, 181), (55,173)이라면 몸무게는 D가 C보다 더 무겁고, 키는 C가 더 크므로, \"덩치\"로만 볼 때 C와 D는 누구도 상대방보다 더 크다고 말할 수 없다.\n",
        "\n",
        "N명의 집단에서 각 사람의 덩치 등수는 자신보다 더 \"큰 덩치\"의 사람의 수로 정해진다. 만일 자신보다 더 큰 덩치의 사람이 k명이라면 그 사람의 덩치 등수는 k+1이 된다. 이렇게 등수를 결정하면 같은 덩치 등수를 가진 사람은 여러 명도 가능하다. 아래는 5명으로 이루어진 집단에서 각 사람의 덩치와 그 등수가 표시된 표이다."
      ]
    },
    {
      "cell_type": "markdown",
      "metadata": {
        "id": "TQykeIA9LShd",
        "colab_type": "text"
      },
      "source": [
        "이름\t<몸무게, 키>\t덩치 등수\n",
        "A\t<55, 185>\t2\n",
        "B\t<58, 183>\t2\n",
        "C\t<88, 186>\t1\n",
        "D\t<60, 175>\t2\n",
        "E\t<46, 155>\t5\n",
        "위 표에서 C보다 더 큰 덩치의 사람이 없으므로 C는 1등이 된다. 그리고 A, B, D 각각의 덩치보다 큰 사람은 C뿐이므로 이들은 모두 2등이 된다. 그리고 E보다 큰 덩치는 A, B, C, D 이렇게 4명이므로 E의 덩치는 5등이 된다. 위 경우에 3등과 4등은 존재하지 않는다. 여러분은 학생 N명의 몸무게와 키가 담긴 입력을 읽어서 각 사람의 덩치 등수를 계산하여 출력해야 한다."
      ]
    },
    {
      "cell_type": "code",
      "metadata": {
        "id": "Jcb1ht7_LeDy",
        "colab_type": "code",
        "colab": {}
      },
      "source": [
        "import pandas as pd\n",
        "import numpy as np\n",
        "import re"
      ],
      "execution_count": null,
      "outputs": []
    },
    {
      "cell_type": "code",
      "metadata": {
        "id": "YJWq8mEHgMqA",
        "colab_type": "code",
        "colab": {
          "base_uri": "https://localhost:8080/",
          "height": 217
        },
        "outputId": "c443ab7e-9106-4a32-d573-984a6f1e5d64"
      },
      "source": [
        "N = int(input(\"학생 수\"))\n",
        "\n",
        "name = []\n",
        "hweight = []\n",
        "\n",
        "for i in range(N):\n",
        "  name.append(input('이름은?'))\n",
        "  hweight.append(input('키/몸무게는?'))"
      ],
      "execution_count": null,
      "outputs": [
        {
          "output_type": "stream",
          "text": [
            "학생 수5\n",
            "이름은?A\n",
            "키/몸무게는?<55, 185>\n",
            "이름은?B\n",
            "키/몸무게는?<58, 183>\n",
            "이름은?C\n",
            "키/몸무게는?<88, 186>\n",
            "이름은?D\n",
            "키/몸무게는?<60, 175>\n",
            "이름은?E\n",
            "키/몸무게는?<46, 155>\n"
          ],
          "name": "stdout"
        }
      ]
    },
    {
      "cell_type": "code",
      "metadata": {
        "id": "BMocNTk3gzlt",
        "colab_type": "code",
        "colab": {}
      },
      "source": [
        "df1= pd.DataFrame([['', '', '']]*N,\n",
        "                   columns = ['이름', '<몸무게, 키>', '덩치 등수'])\n",
        "for i in range(len(df1)):\n",
        "  df1['이름'][i] = name[i]\n",
        "  df1['<몸무게, 키>'][i] = hweight[i]"
      ],
      "execution_count": null,
      "outputs": []
    },
    {
      "cell_type": "code",
      "metadata": {
        "id": "GXTW2x1xM2dW",
        "colab_type": "code",
        "colab": {}
      },
      "source": [
        "df1['몸무게'] = ['', '', '', '', '']\n",
        "df1['키'] = ['', '', '', '', '']\n",
        "\n"
      ],
      "execution_count": null,
      "outputs": []
    },
    {
      "cell_type": "code",
      "metadata": {
        "id": "-z6ft38kNLm4",
        "colab_type": "code",
        "colab": {}
      },
      "source": [
        "for i in range(len(df1)):\n",
        "  df1['몸무게'][i] = int((re.findall('\\<(.+?)\\,', df1.iloc[i][1]))[0])\n",
        "  df1['키'][i] = int((re.findall('\\,(.+?)\\>', df1.iloc[i][1]))[0])\n",
        "  \n",
        "\n",
        "\n"
      ],
      "execution_count": null,
      "outputs": []
    },
    {
      "cell_type": "code",
      "metadata": {
        "id": "akxy7WAhXSpq",
        "colab_type": "code",
        "colab": {}
      },
      "source": [
        "df1['덩치 등수'] = (df1['몸무게'].rank(method = 'dense', ascending=False) + df1['키'].rank(method = 'dense', ascending=False)).rank(method = 'dense',ascending=True)"
      ],
      "execution_count": null,
      "outputs": []
    },
    {
      "cell_type": "code",
      "metadata": {
        "id": "Z51NLWXOO3FD",
        "colab_type": "code",
        "colab": {
          "base_uri": "https://localhost:8080/",
          "height": 198
        },
        "outputId": "f37e5202-cc2f-4703-cef8-880e76fc4552"
      },
      "source": [
        "df1"
      ],
      "execution_count": null,
      "outputs": [
        {
          "output_type": "execute_result",
          "data": {
            "text/html": [
              "<div>\n",
              "<style scoped>\n",
              "    .dataframe tbody tr th:only-of-type {\n",
              "        vertical-align: middle;\n",
              "    }\n",
              "\n",
              "    .dataframe tbody tr th {\n",
              "        vertical-align: top;\n",
              "    }\n",
              "\n",
              "    .dataframe thead th {\n",
              "        text-align: right;\n",
              "    }\n",
              "</style>\n",
              "<table border=\"1\" class=\"dataframe\">\n",
              "  <thead>\n",
              "    <tr style=\"text-align: right;\">\n",
              "      <th></th>\n",
              "      <th>이름</th>\n",
              "      <th>&lt;몸무게, 키&gt;</th>\n",
              "      <th>덩치 등수</th>\n",
              "      <th>몸무게</th>\n",
              "      <th>키</th>\n",
              "    </tr>\n",
              "  </thead>\n",
              "  <tbody>\n",
              "    <tr>\n",
              "      <th>0</th>\n",
              "      <td>A</td>\n",
              "      <td>&lt;55, 185&gt;</td>\n",
              "      <td>2.0</td>\n",
              "      <td>55</td>\n",
              "      <td>185</td>\n",
              "    </tr>\n",
              "    <tr>\n",
              "      <th>1</th>\n",
              "      <td>B</td>\n",
              "      <td>&lt;58, 183&gt;</td>\n",
              "      <td>2.0</td>\n",
              "      <td>58</td>\n",
              "      <td>183</td>\n",
              "    </tr>\n",
              "    <tr>\n",
              "      <th>2</th>\n",
              "      <td>C</td>\n",
              "      <td>&lt;88, 186&gt;</td>\n",
              "      <td>1.0</td>\n",
              "      <td>88</td>\n",
              "      <td>186</td>\n",
              "    </tr>\n",
              "    <tr>\n",
              "      <th>3</th>\n",
              "      <td>D</td>\n",
              "      <td>&lt;60, 175&gt;</td>\n",
              "      <td>2.0</td>\n",
              "      <td>60</td>\n",
              "      <td>175</td>\n",
              "    </tr>\n",
              "    <tr>\n",
              "      <th>4</th>\n",
              "      <td>E</td>\n",
              "      <td>&lt;46, 155&gt;</td>\n",
              "      <td>3.0</td>\n",
              "      <td>46</td>\n",
              "      <td>155</td>\n",
              "    </tr>\n",
              "  </tbody>\n",
              "</table>\n",
              "</div>"
            ],
            "text/plain": [
              "  이름   <몸무게, 키>  덩치 등수 몸무게    키\n",
              "0  A  <55, 185>    2.0  55  185\n",
              "1  B  <58, 183>    2.0  58  183\n",
              "2  C  <88, 186>    1.0  88  186\n",
              "3  D  <60, 175>    2.0  60  175\n",
              "4  E  <46, 155>    3.0  46  155"
            ]
          },
          "metadata": {
            "tags": []
          },
          "execution_count": 105
        }
      ]
    },
    {
      "cell_type": "code",
      "metadata": {
        "id": "-3BFDkrNfszM",
        "colab_type": "code",
        "colab": {}
      },
      "source": [
        ""
      ],
      "execution_count": null,
      "outputs": []
    }
  ]
}