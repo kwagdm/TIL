{
  "nbformat": 4,
  "nbformat_minor": 0,
  "metadata": {
    "colab": {
      "name": "0710_토너먼트.ipynb의 사본",
      "provenance": [],
      "collapsed_sections": [],
      "include_colab_link": true
    },
    "kernelspec": {
      "name": "python3",
      "display_name": "Python 3"
    }
  },
  "cells": [
    {
      "cell_type": "markdown",
      "metadata": {
        "id": "view-in-github",
        "colab_type": "text"
      },
      "source": [
        "<a href=\"https://colab.research.google.com/github/kwagdm/TIL/blob/master/0710_%ED%86%A0%EB%84%88%EB%A8%BC%ED%8A%B8_ipynb%EC%9D%98_%EC%82%AC%EB%B3%B8.ipynb\" target=\"_parent\"><img src=\"https://colab.research.google.com/assets/colab-badge.svg\" alt=\"Open In Colab\"/></a>"
      ]
    },
    {
      "cell_type": "markdown",
      "metadata": {
        "id": "mQKT-dFJPGqp",
        "colab_type": "text"
      },
      "source": [
        "## 문제\n",
        "김지민은 N명이 참가하는 스타 토너먼트에 진출했다. 토너먼트는 다음과 같이 진행된다. 일단 N명의 참가자는 번호가 1번부터 N번까지 배정받는다. 그러고 난 후에 서로 인접한 번호끼리 스타를 한다. 이긴 사람은 다음 라운드에 진출하고, 진 사람은 그 라운드에서 떨어진다. 만약 그 라운드의 참가자가 홀수명이라면, 마지막 번호를 가진 참가자는 다음 라운드로 자동 진출한다. 다음 라운드에선 다시 참가자의 번호를 1번부터 매긴다. 이때, 번호를 매기는 순서는 처음 번호의 순서를 유지하면서 1번부터 매긴다. 이 말은 1번과 2번이 스타를 해서 1번이 진출하고, 3번과 4번이 스타를 해서 4번이 진출했다면, 4번은 다음 라운드에서 번호 2번을 배정받는다. 번호를 다시 배정받은 후에 한 명만 남을 때까지 라운드를 계속 한다.\n",
        "\n",
        "마침 이 스타 대회에 임한수도 참가했다. 김지민은 갑자기 스타 대회에서 우승하는 욕심은 없어지고, 몇 라운드에서 임한수와 대결하는지 궁금해졌다. 일단 김지민과 임한수는 서로 대결하기 전까지 항상 이긴다고 가정한다. 1 라운드에서 김지민의 번호와 임한수의 번호가 주어질 때, 과연 김지민과 임한수가 몇 라운드에서 대결하는지 출력하는 프로그램을 작성하시오."
      ]
    },
    {
      "cell_type": "markdown",
      "metadata": {
        "id": "Bl6XaiugPcCH",
        "colab_type": "text"
      },
      "source": [
        "## 입력\n",
        "첫째 줄에 참가자의 수 N과 1 라운드에서 김지민의 번호와 임한수의 번호가 순서대로 주어진다. N은 100,000보다 작거나 같은 자연수이고, 김지민의 번호와 임한수의 번호는 N보다 작거나 같은 자연수이고, 서로 다르다."
      ]
    },
    {
      "cell_type": "markdown",
      "metadata": {
        "id": "5WZAC1CgPflK",
        "colab_type": "text"
      },
      "source": [
        "# 출력\n",
        "첫째 줄에 김지민과 임한수가 대결하는 라운드 번호를 출력한다. 만약 서로 대결하지 않을 때는 -1을 출력한다."
      ]
    },
    {
      "cell_type": "code",
      "metadata": {
        "id": "pucV2FHmPgVq",
        "colab_type": "code",
        "colab": {}
      },
      "source": [
        "# # 예제 입력                       # 예제 출력\n",
        "# 16   8   9                               4"
      ],
      "execution_count": null,
      "outputs": []
    },
    {
      "cell_type": "code",
      "metadata": {
        "id": "GKRAyB7x4RJG",
        "colab_type": "code",
        "colab": {
          "base_uri": "https://localhost:8080/",
          "height": 90
        },
        "outputId": "9f690bad-e948-43bf-8a8f-e2eb7e19d920"
      },
      "source": [
        "def next_power_of_2(x):  \n",
        "    return 1 if x == 0 else 2**(x - 1).bit_length()\n",
        "\n",
        "def exponential(x):\n",
        "  return int(math.log(next_power_of_2(x), 2))\n",
        "\n",
        "\n",
        "N = input('put down any natural number under 100,000')\n",
        "a = int(input('put down any natural number'))\n",
        "b = int(input('put down any natural number'))\n",
        "\n",
        "def dividen(x):\n",
        "  if x%2 == 0:\n",
        "    number = x//2\n",
        "  if x%2 == 1:\n",
        "    number = x//2 + 1\n",
        "  return number\n",
        "\n",
        "\n",
        "if next_power_of_2(a) != next_power_of_2(b):\n",
        "  if a > b:\n",
        "    answer = exponential(a)\n",
        "  if b > a:\n",
        "    answer = exponential(b)\n",
        "\n",
        "if next_power_of_2(a) == next_power_of_2(b):\n",
        "  if a > b:\n",
        "    answer = dividen(a) - dividen(b) + 1\n",
        "  if a < b:\n",
        "    answer = dividen(b) - dividen(a) + 1\n",
        "\n",
        "answer"
      ],
      "execution_count": null,
      "outputs": [
        {
          "output_type": "stream",
          "text": [
            "put down any natural number under 100,00016\n",
            "put down any natural number9\n",
            "put down any natural number13\n"
          ],
          "name": "stdout"
        },
        {
          "output_type": "execute_result",
          "data": {
            "text/plain": [
              "3"
            ]
          },
          "metadata": {
            "tags": []
          },
          "execution_count": 4
        }
      ]
    },
    {
      "cell_type": "code",
      "metadata": {
        "id": "NiWYkgA9HkG8",
        "colab_type": "code",
        "colab": {
          "base_uri": "https://localhost:8080/",
          "height": 35
        },
        "outputId": "b9044435-b291-43bd-ad50-dd3067d9ac1f"
      },
      "source": [
        "dividen(11)"
      ],
      "execution_count": null,
      "outputs": [
        {
          "output_type": "execute_result",
          "data": {
            "text/plain": [
              "6"
            ]
          },
          "metadata": {
            "tags": []
          },
          "execution_count": 2
        }
      ]
    },
    {
      "cell_type": "code",
      "metadata": {
        "id": "dqRKmFqe6JYR",
        "colab_type": "code",
        "colab": {
          "base_uri": "https://localhost:8080/",
          "height": 90
        },
        "outputId": "af3c21dc-70c6-4db8-df66-eca26a95660e"
      },
      "source": [
        "N = input('put down any natural number under 100,000')\n",
        "kim = int(input('put down any natural number'))\n",
        "im = int(input('put down any natural number'))\n",
        "count = 0\n",
        "while kim != im:\n",
        "    kim -= kim // 2\n",
        "    im -= im // 2\n",
        "    count += 1\n",
        "print(count)"
      ],
      "execution_count": null,
      "outputs": [
        {
          "output_type": "stream",
          "text": [
            "put down any natural number under 100,00016\n",
            "put down any natural number9\n",
            "put down any natural number13\n",
            "3\n"
          ],
          "name": "stdout"
        }
      ]
    },
    {
      "cell_type": "code",
      "metadata": {
        "id": "4ewLp5dmD77O",
        "colab_type": "code",
        "colab": {}
      },
      "source": [
        ""
      ],
      "execution_count": null,
      "outputs": []
    }
  ]
}