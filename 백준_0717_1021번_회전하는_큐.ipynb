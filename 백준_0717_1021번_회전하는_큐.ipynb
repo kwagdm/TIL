{
  "nbformat": 4,
  "nbformat_minor": 0,
  "metadata": {
    "colab": {
      "name": "백준_0717_1021번_회전하는 큐.ipynb",
      "provenance": [],
      "collapsed_sections": [],
      "include_colab_link": true
    },
    "kernelspec": {
      "name": "python3",
      "display_name": "Python 3"
    }
  },
  "cells": [
    {
      "cell_type": "markdown",
      "metadata": {
        "id": "view-in-github",
        "colab_type": "text"
      },
      "source": [
        "<a href=\"https://colab.research.google.com/github/kwagdm/TIL/blob/master/%EB%B0%B1%EC%A4%80_0717_1021%EB%B2%88_%ED%9A%8C%EC%A0%84%ED%95%98%EB%8A%94_%ED%81%90.ipynb\" target=\"_parent\"><img src=\"https://colab.research.google.com/assets/colab-badge.svg\" alt=\"Open In Colab\"/></a>"
      ]
    },
    {
      "cell_type": "markdown",
      "metadata": {
        "id": "3L7k7ZHI9mDJ",
        "colab_type": "text"
      },
      "source": [
        "#회전하는 큐  \n",
        "## 문제\n",
        "지민이는 N개의 원소를 포함하고 있는 양방향 순환 큐를 가지고 있다. 지민이는 이 큐에서 몇 개의 원소를 뽑아내려고 한다.\n",
        "\n",
        "지민이는 이 큐에서 다음과 같은 3가지 연산을 수행할 수 있다.\n",
        "\n",
        "1)첫 번째 원소를 뽑아낸다. 이 연산을 수행하면, 원래 큐의 원소가 a1, ..., ak이었던 것이 a2, ..., ak와 같이 된다.  \n",
        "2)왼쪽으로 한 칸 이동시킨다. 이 연산을 수행하면, a1, ..., ak가 a2, ..., ak, a1이 된다.  \n",
        "3)오른쪽으로 한 칸 이동시킨다. 이 연산을 수행하면, a1, ..., ak가 ak, a1, ..., ak-1이 된다.  \n",
        "\n",
        " 큐에 처음에 포함되어 있던 수 N이 주어진다. 그리고 지민이가 뽑아내려고 하는 원소의 위치가 주어진다. (이 위치는 가장 처음 큐에서의 위치이다.) 이때, 그 원소를 주어진 순서대로 뽑아내는데 드는 2번, 3번 연산의 최솟값을 출력하는 프로그램을 작성하시오.\n",
        "## 입력\n",
        "첫째 줄에 큐의 크기 N과 뽑아내려고 하는 수의 개수 M이 주어진다. N은 50보다 작거나 같은 자연수이고, M은 N보다 작거나 같은 자연수이다. 둘째 줄에는 지민이가 뽑아내려고 하는 수의 위치가 순서대로 주어진다. 위치는 1보다 크거나 같고, N보다 작거나 같은 자연수이다.\n",
        "## 출력\n",
        "첫째 줄에 문제의 정답을 출력한다.\n",
        "## 출처\n",
        "https://www.acmicpc.net/problem/1021"
      ]
    },
    {
      "cell_type": "code",
      "metadata": {
        "id": "3myBERbe_3wF",
        "colab_type": "code",
        "colab": {
          "base_uri": "https://localhost:8080/",
          "height": 126
        },
        "outputId": "5c5e6dff-e3e5-4b3b-9e35-0fdb7878d558"
      },
      "source": [
        "N = int(input(\"put down any number\"))\n",
        "M = int(input(\"put down any number\"))\n",
        "A = []\n",
        "for i in range(M):\n",
        "  A.append(int(input(\"put down any number\")))\n",
        "\n",
        "answer = 0\n",
        "n = [i for i in range(1, N+1)]\n",
        "for x in A:   \n",
        "  if n.index(x) + 1 <= (len(n) + 1)/2:\n",
        "    answer += n.index(x) \n",
        "    d = n[0:n.index(x)]\n",
        "\n",
        "    for i in range(len(d)):\n",
        "      n.append(d[i])\n",
        "    for i in range(len(d) + 1):  \n",
        "      del(n[0])\n",
        "      \n",
        "  else:\n",
        "    answer += len(n) - n.index(x)\n",
        "\n",
        "    e = n[(n.index(x) - len(n)):len(n)]\n",
        "    \n",
        "    for i in range(len(e) - 1):\n",
        "      n.insert(0, e[-i -1])\n",
        "\n",
        "    for i in range(len(e)):\n",
        "      del(n[-1])\n",
        "\n",
        "\n",
        "print(answer)"
      ],
      "execution_count": 93,
      "outputs": [
        {
          "output_type": "stream",
          "text": [
            "put down any number10\n",
            "put down any number3\n",
            "put down any number1\n",
            "put down any number2\n",
            "put down any number3\n",
            "0\n"
          ],
          "name": "stdout"
        }
      ]
    },
    {
      "cell_type": "code",
      "metadata": {
        "id": "DPD5N1VLJ7ER",
        "colab_type": "code",
        "colab": {}
      },
      "source": [
        ""
      ],
      "execution_count": null,
      "outputs": []
    }
  ]
}