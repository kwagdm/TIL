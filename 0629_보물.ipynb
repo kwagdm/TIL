{
  "nbformat": 4,
  "nbformat_minor": 0,
  "metadata": {
    "colab": {
      "name": "0629_보물.ipynb",
      "provenance": [],
      "collapsed_sections": [],
      "authorship_tag": "ABX9TyMMOehQY7KOwa1cM8dJvJhm",
      "include_colab_link": true
    },
    "kernelspec": {
      "name": "python3",
      "display_name": "Python 3"
    }
  },
  "cells": [
    {
      "cell_type": "markdown",
      "metadata": {
        "id": "view-in-github",
        "colab_type": "text"
      },
      "source": [
        "<a href=\"https://colab.research.google.com/github/kwagdm/TIL/blob/master/0629_%EB%B3%B4%EB%AC%BC.ipynb\" target=\"_parent\"><img src=\"https://colab.research.google.com/assets/colab-badge.svg\" alt=\"Open In Colab\"/></a>"
      ]
    },
    {
      "cell_type": "markdown",
      "metadata": {
        "id": "SL8PhJ3lKKWH",
        "colab_type": "text"
      },
      "source": [
        "보물\n",
        "옛날 옛적에 수학이 항상 큰 골칫거리였던 나라가 있었다. 이 나라의 국왕 김지민은 다음과 같은 문제를 내고 큰 상금을 걸었다.\n",
        "\n",
        "길이가 N인 정수 배열 A와 B가 있다. 다음과 같이 함수 S를 정의하자.\n",
        "\n",
        "S = A[0]B[0] + ... + A[N-1]B[N-1]\n",
        "\n",
        "S의 값을 가장 작게 만들기 위해 A의 수를 재배열하자. 단, B에 있는 수는 재배열하면 안 된다.\n",
        "\n",
        "S의 최솟값을 출력하는 프로그램을 작성하시오.\n",
        "\n"
      ]
    },
    {
      "cell_type": "markdown",
      "metadata": {
        "id": "2Qf0pHsgKO48",
        "colab_type": "text"
      },
      "source": [
        "## 입력\n",
        "첫째 줄에 N이 주어진다. 둘째 줄에는 A에 있는 N개의 수가 순서대로 주어지고, 셋째 줄에는 B에 있는 수가 순서대로 주어진다. N은 50보다 작거나 같은 자연수이고, A와 B의 각 원소는 100보다 작거나 같은 음이 아닌 정수이다."
      ]
    },
    {
      "cell_type": "markdown",
      "metadata": {
        "id": "EIoBGpWTKRVH",
        "colab_type": "text"
      },
      "source": [
        "## 출력\n",
        "첫째 줄에 S의 최솟값을 출력한다."
      ]
    },
    {
      "cell_type": "code",
      "metadata": {
        "id": "pnGPqpNbNque",
        "colab_type": "code",
        "colab": {
          "base_uri": "https://localhost:8080/",
          "height": 35
        },
        "outputId": "e1a65169-efd0-40dc-e6be-c328bb072af7"
      },
      "source": [
        "N = input(\"put down any natural number below 50\")"
      ],
      "execution_count": null,
      "outputs": [
        {
          "output_type": "stream",
          "text": [
            "put down any natural number below 503\n"
          ],
          "name": "stdout"
        }
      ]
    },
    {
      "cell_type": "code",
      "metadata": {
        "id": "zrc2zn-DNk8h",
        "colab_type": "code",
        "colab": {}
      },
      "source": [
        "import random\n",
        "A = []\n",
        "B = []\n",
        "for i in range(int(N)):\n",
        "  n = random.randint(1,100)\n",
        "  m = random.randint(1,100)\n",
        "  A.append(n)\n",
        "  B.append(m)"
      ],
      "execution_count": null,
      "outputs": []
    },
    {
      "cell_type": "code",
      "metadata": {
        "id": "m-w18sxmKT0c",
        "colab_type": "code",
        "colab": {
          "base_uri": "https://localhost:8080/",
          "height": 72
        },
        "outputId": "e56c46f1-feda-4585-c6d9-d8bab8e23f7f"
      },
      "source": [
        "print(A, ''), print(B, '')"
      ],
      "execution_count": null,
      "outputs": [
        {
          "output_type": "stream",
          "text": [
            "[59, 68, 39] \n",
            "[60, 9, 14] \n"
          ],
          "name": "stdout"
        },
        {
          "output_type": "execute_result",
          "data": {
            "text/plain": [
              "(None, None)"
            ]
          },
          "metadata": {
            "tags": []
          },
          "execution_count": 119
        }
      ]
    },
    {
      "cell_type": "code",
      "metadata": {
        "id": "g-kmwucECq1L",
        "colab_type": "code",
        "colab": {
          "base_uri": "https://localhost:8080/",
          "height": 35
        },
        "outputId": "5780312f-0144-412d-88db-b5bc972aa016"
      },
      "source": [
        "def sorted_B_index(i):\n",
        "  return sorted(B).index(B[i])\n",
        "A_reverse = sorted(A, reverse=True)\n",
        "A1 = []\n",
        "for i in range(len(B)):\n",
        "  A1.append(A_reverse[sorted_B_index(i)])\n",
        "print(A1, '')"
      ],
      "execution_count": null,
      "outputs": [
        {
          "output_type": "stream",
          "text": [
            "[39, 68, 59] \n"
          ],
          "name": "stdout"
        }
      ]
    },
    {
      "cell_type": "code",
      "metadata": {
        "id": "QDVx9Go4M32T",
        "colab_type": "code",
        "colab": {
          "base_uri": "https://localhost:8080/",
          "height": 35
        },
        "outputId": "945c3604-3dff-4427-8ba9-b3631b181f33"
      },
      "source": [
        "for i in range(len(B)):\n",
        "  S = A1[i]*B[i]\n",
        "S"
      ],
      "execution_count": null,
      "outputs": [
        {
          "output_type": "execute_result",
          "data": {
            "text/plain": [
              "826"
            ]
          },
          "metadata": {
            "tags": []
          },
          "execution_count": 121
        }
      ]
    },
    {
      "cell_type": "code",
      "metadata": {
        "id": "OeetHYpcQLhC",
        "colab_type": "code",
        "colab": {}
      },
      "source": [
        ""
      ],
      "execution_count": null,
      "outputs": []
    }
  ]
}